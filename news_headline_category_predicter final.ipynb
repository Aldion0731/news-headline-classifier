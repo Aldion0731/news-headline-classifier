{
 "cells": [
  {
   "cell_type": "markdown",
   "metadata": {},
   "source": [
    "### Overview\n",
    "\n",
    "The purpose of this project is to implement an algorithm that can categorize news headlines based on the content of the headline. The dataset for this project consists of a databased of news headlines. each of which belongs to one of the categories; \"business\", \"entertainment\", 'medical', or 'science and technology. Our job is to train an LSTM that can accuractely categorize a previously unseen news headline, into one of these categories."
   ]
  },
  {
   "cell_type": "code",
   "execution_count": 1,
   "metadata": {
    "id": "AU9ZF_xI8a0M"
   },
   "outputs": [],
   "source": [
    "import pandas as pd\n",
    "import numpy as np\n",
    "import matplotlib.pyplot as plt\n",
    "import os\n",
    "from sklearn.preprocessing import LabelEncoder\n",
    "import tensorflow as tf\n",
    "from tensorflow import keras\n",
    "from tensorflow.keras.preprocessing.text import Tokenizer\n",
    "from tensorflow.keras.preprocessing.sequence import pad_sequences\n",
    "from tensorflow.keras.layers import Dense, LSTM, Embedding, SpatialDropout1D\n",
    "from tensorflow.keras.models import Sequential\n",
    "from sklearn.model_selection import train_test_split\n",
    "from tensorflow.keras.callbacks import EarlyStopping\n",
    "import seaborn as sns"
   ]
  },
  {
   "cell_type": "markdown",
   "metadata": {},
   "source": [
    "### Loading and Inspecting the data"
   ]
  },
  {
   "cell_type": "code",
   "execution_count": 2,
   "metadata": {
    "id": "ZvDUNzLN8giq"
   },
   "outputs": [],
   "source": [
    "newsdf = pd.read_csv('newsCorpora.csv', sep=\"\\t\", header=None, index_col=0)"
   ]
  },
  {
   "cell_type": "code",
   "execution_count": 3,
   "metadata": {},
   "outputs": [
    {
     "data": {
      "text/plain": [
       "(422419, 7)"
      ]
     },
     "execution_count": 3,
     "metadata": {},
     "output_type": "execute_result"
    }
   ],
   "source": [
    "newsdf.shape"
   ]
  },
  {
   "cell_type": "code",
   "execution_count": 4,
   "metadata": {
    "colab": {
     "base_uri": "https://localhost:8080/",
     "height": 234
    },
    "id": "kn7kd_fx8wC7",
    "outputId": "4b71a7b3-abc2-4acf-c4a3-782e4d98e4b4"
   },
   "outputs": [
    {
     "data": {
      "text/html": [
       "<div>\n",
       "<style scoped>\n",
       "    .dataframe tbody tr th:only-of-type {\n",
       "        vertical-align: middle;\n",
       "    }\n",
       "\n",
       "    .dataframe tbody tr th {\n",
       "        vertical-align: top;\n",
       "    }\n",
       "\n",
       "    .dataframe thead th {\n",
       "        text-align: right;\n",
       "    }\n",
       "</style>\n",
       "<table border=\"1\" class=\"dataframe\">\n",
       "  <thead>\n",
       "    <tr style=\"text-align: right;\">\n",
       "      <th></th>\n",
       "      <th>1</th>\n",
       "      <th>2</th>\n",
       "      <th>3</th>\n",
       "      <th>4</th>\n",
       "      <th>5</th>\n",
       "      <th>6</th>\n",
       "      <th>7</th>\n",
       "    </tr>\n",
       "    <tr>\n",
       "      <th>0</th>\n",
       "      <th></th>\n",
       "      <th></th>\n",
       "      <th></th>\n",
       "      <th></th>\n",
       "      <th></th>\n",
       "      <th></th>\n",
       "      <th></th>\n",
       "    </tr>\n",
       "  </thead>\n",
       "  <tbody>\n",
       "    <tr>\n",
       "      <th>1</th>\n",
       "      <td>Fed official says weak data caused by weather,...</td>\n",
       "      <td>http://www.latimes.com/business/money/la-fi-mo...</td>\n",
       "      <td>Los Angeles Times</td>\n",
       "      <td>b</td>\n",
       "      <td>ddUyU0VZz0BRneMioxUPQVP6sIxvM</td>\n",
       "      <td>www.latimes.com</td>\n",
       "      <td>1394470370698</td>\n",
       "    </tr>\n",
       "    <tr>\n",
       "      <th>2</th>\n",
       "      <td>Fed's Charles Plosser sees high bar for change...</td>\n",
       "      <td>http://www.livemint.com/Politics/H2EvwJSK2VE6O...</td>\n",
       "      <td>Livemint</td>\n",
       "      <td>b</td>\n",
       "      <td>ddUyU0VZz0BRneMioxUPQVP6sIxvM</td>\n",
       "      <td>www.livemint.com</td>\n",
       "      <td>1394470371207</td>\n",
       "    </tr>\n",
       "    <tr>\n",
       "      <th>3</th>\n",
       "      <td>US open: Stocks fall after Fed official hints ...</td>\n",
       "      <td>http://www.ifamagazine.com/news/us-open-stocks...</td>\n",
       "      <td>IFA Magazine</td>\n",
       "      <td>b</td>\n",
       "      <td>ddUyU0VZz0BRneMioxUPQVP6sIxvM</td>\n",
       "      <td>www.ifamagazine.com</td>\n",
       "      <td>1394470371550</td>\n",
       "    </tr>\n",
       "    <tr>\n",
       "      <th>4</th>\n",
       "      <td>Fed risks falling 'behind the curve', Charles ...</td>\n",
       "      <td>http://www.ifamagazine.com/news/fed-risks-fall...</td>\n",
       "      <td>IFA Magazine</td>\n",
       "      <td>b</td>\n",
       "      <td>ddUyU0VZz0BRneMioxUPQVP6sIxvM</td>\n",
       "      <td>www.ifamagazine.com</td>\n",
       "      <td>1394470371793</td>\n",
       "    </tr>\n",
       "    <tr>\n",
       "      <th>5</th>\n",
       "      <td>Fed's Plosser: Nasty Weather Has Curbed Job Gr...</td>\n",
       "      <td>http://www.moneynews.com/Economy/federal-reser...</td>\n",
       "      <td>Moneynews</td>\n",
       "      <td>b</td>\n",
       "      <td>ddUyU0VZz0BRneMioxUPQVP6sIxvM</td>\n",
       "      <td>www.moneynews.com</td>\n",
       "      <td>1394470372027</td>\n",
       "    </tr>\n",
       "  </tbody>\n",
       "</table>\n",
       "</div>"
      ],
      "text/plain": [
       "                                                   1  \\\n",
       "0                                                      \n",
       "1  Fed official says weak data caused by weather,...   \n",
       "2  Fed's Charles Plosser sees high bar for change...   \n",
       "3  US open: Stocks fall after Fed official hints ...   \n",
       "4  Fed risks falling 'behind the curve', Charles ...   \n",
       "5  Fed's Plosser: Nasty Weather Has Curbed Job Gr...   \n",
       "\n",
       "                                                   2                  3  4  \\\n",
       "0                                                                            \n",
       "1  http://www.latimes.com/business/money/la-fi-mo...  Los Angeles Times  b   \n",
       "2  http://www.livemint.com/Politics/H2EvwJSK2VE6O...           Livemint  b   \n",
       "3  http://www.ifamagazine.com/news/us-open-stocks...       IFA Magazine  b   \n",
       "4  http://www.ifamagazine.com/news/fed-risks-fall...       IFA Magazine  b   \n",
       "5  http://www.moneynews.com/Economy/federal-reser...          Moneynews  b   \n",
       "\n",
       "                               5                    6              7  \n",
       "0                                                                     \n",
       "1  ddUyU0VZz0BRneMioxUPQVP6sIxvM      www.latimes.com  1394470370698  \n",
       "2  ddUyU0VZz0BRneMioxUPQVP6sIxvM     www.livemint.com  1394470371207  \n",
       "3  ddUyU0VZz0BRneMioxUPQVP6sIxvM  www.ifamagazine.com  1394470371550  \n",
       "4  ddUyU0VZz0BRneMioxUPQVP6sIxvM  www.ifamagazine.com  1394470371793  \n",
       "5  ddUyU0VZz0BRneMioxUPQVP6sIxvM    www.moneynews.com  1394470372027  "
      ]
     },
     "execution_count": 4,
     "metadata": {},
     "output_type": "execute_result"
    }
   ],
   "source": [
    "newsdf.head()"
   ]
  },
  {
   "cell_type": "code",
   "execution_count": 5,
   "metadata": {},
   "outputs": [
    {
     "data": {
      "text/plain": [
       "1    0\n",
       "2    0\n",
       "3    2\n",
       "4    0\n",
       "5    0\n",
       "6    0\n",
       "7    0\n",
       "dtype: int64"
      ]
     },
     "execution_count": 5,
     "metadata": {},
     "output_type": "execute_result"
    }
   ],
   "source": [
    "newsdf.isnull().sum(axis=0)\n",
    "#There are 2 null values in the dataset.\n",
    "#Column 3 however will not be a column of interest for us."
   ]
  },
  {
   "cell_type": "code",
   "execution_count": 6,
   "metadata": {
    "id": "vF7yv5jI8yOS"
   },
   "outputs": [],
   "source": [
    "newsdf = newsdf.drop([3, 5, 6, 7], axis=1).rename(columns={1:\"Headline\", 2: \"URL\", 4: \"Category\" })"
   ]
  },
  {
   "cell_type": "code",
   "execution_count": 7,
   "metadata": {
    "colab": {
     "base_uri": "https://localhost:8080/",
     "height": 234
    },
    "id": "pfz9uH4f9xo-",
    "outputId": "4a571dc1-80bf-4c13-d800-14781473ecb3"
   },
   "outputs": [
    {
     "data": {
      "text/html": [
       "<div>\n",
       "<style scoped>\n",
       "    .dataframe tbody tr th:only-of-type {\n",
       "        vertical-align: middle;\n",
       "    }\n",
       "\n",
       "    .dataframe tbody tr th {\n",
       "        vertical-align: top;\n",
       "    }\n",
       "\n",
       "    .dataframe thead th {\n",
       "        text-align: right;\n",
       "    }\n",
       "</style>\n",
       "<table border=\"1\" class=\"dataframe\">\n",
       "  <thead>\n",
       "    <tr style=\"text-align: right;\">\n",
       "      <th></th>\n",
       "      <th>Headline</th>\n",
       "      <th>URL</th>\n",
       "      <th>Category</th>\n",
       "    </tr>\n",
       "    <tr>\n",
       "      <th>0</th>\n",
       "      <th></th>\n",
       "      <th></th>\n",
       "      <th></th>\n",
       "    </tr>\n",
       "  </thead>\n",
       "  <tbody>\n",
       "    <tr>\n",
       "      <th>1</th>\n",
       "      <td>Fed official says weak data caused by weather,...</td>\n",
       "      <td>http://www.latimes.com/business/money/la-fi-mo...</td>\n",
       "      <td>b</td>\n",
       "    </tr>\n",
       "    <tr>\n",
       "      <th>2</th>\n",
       "      <td>Fed's Charles Plosser sees high bar for change...</td>\n",
       "      <td>http://www.livemint.com/Politics/H2EvwJSK2VE6O...</td>\n",
       "      <td>b</td>\n",
       "    </tr>\n",
       "    <tr>\n",
       "      <th>3</th>\n",
       "      <td>US open: Stocks fall after Fed official hints ...</td>\n",
       "      <td>http://www.ifamagazine.com/news/us-open-stocks...</td>\n",
       "      <td>b</td>\n",
       "    </tr>\n",
       "    <tr>\n",
       "      <th>4</th>\n",
       "      <td>Fed risks falling 'behind the curve', Charles ...</td>\n",
       "      <td>http://www.ifamagazine.com/news/fed-risks-fall...</td>\n",
       "      <td>b</td>\n",
       "    </tr>\n",
       "    <tr>\n",
       "      <th>5</th>\n",
       "      <td>Fed's Plosser: Nasty Weather Has Curbed Job Gr...</td>\n",
       "      <td>http://www.moneynews.com/Economy/federal-reser...</td>\n",
       "      <td>b</td>\n",
       "    </tr>\n",
       "  </tbody>\n",
       "</table>\n",
       "</div>"
      ],
      "text/plain": [
       "                                            Headline  \\\n",
       "0                                                      \n",
       "1  Fed official says weak data caused by weather,...   \n",
       "2  Fed's Charles Plosser sees high bar for change...   \n",
       "3  US open: Stocks fall after Fed official hints ...   \n",
       "4  Fed risks falling 'behind the curve', Charles ...   \n",
       "5  Fed's Plosser: Nasty Weather Has Curbed Job Gr...   \n",
       "\n",
       "                                                 URL Category  \n",
       "0                                                              \n",
       "1  http://www.latimes.com/business/money/la-fi-mo...        b  \n",
       "2  http://www.livemint.com/Politics/H2EvwJSK2VE6O...        b  \n",
       "3  http://www.ifamagazine.com/news/us-open-stocks...        b  \n",
       "4  http://www.ifamagazine.com/news/fed-risks-fall...        b  \n",
       "5  http://www.moneynews.com/Economy/federal-reser...        b  "
      ]
     },
     "execution_count": 7,
     "metadata": {},
     "output_type": "execute_result"
    }
   ],
   "source": [
    "newsdf.head()"
   ]
  },
  {
   "cell_type": "code",
   "execution_count": 8,
   "metadata": {},
   "outputs": [
    {
     "data": {
      "text/plain": [
       "(422228, 3)"
      ]
     },
     "execution_count": 8,
     "metadata": {},
     "output_type": "execute_result"
    }
   ],
   "source": [
    "newsdf = newsdf.drop_duplicates()\n",
    "newsdf.shape\n",
    "#There was only one duplicated entry in the df"
   ]
  },
  {
   "cell_type": "markdown",
   "metadata": {},
   "source": [
    "### Examples of headlines from the various categories"
   ]
  },
  {
   "cell_type": "code",
   "execution_count": 9,
   "metadata": {},
   "outputs": [
    {
     "data": {
      "text/plain": [
       "'Fed official says weak data caused by weather, should not slow taper'"
      ]
     },
     "execution_count": 9,
     "metadata": {},
     "output_type": "execute_result"
    }
   ],
   "source": [
    "newsdf[newsdf.Category == 'b'].Headline.iloc[0]\n",
    "#Below is an example of a headline that belongs to the business category."
   ]
  },
  {
   "cell_type": "code",
   "execution_count": 10,
   "metadata": {},
   "outputs": [
    {
     "data": {
      "text/plain": [
       "'George Zimmerman Has an Armed Life on the Move'"
      ]
     },
     "execution_count": 10,
     "metadata": {},
     "output_type": "execute_result"
    }
   ],
   "source": [
    "newsdf[newsdf.Category == 'e'].Headline.iloc[0]\n",
    "#Below is an example of a headline that belongs to the entertainment category."
   ]
  },
  {
   "cell_type": "code",
   "execution_count": 11,
   "metadata": {},
   "outputs": [
    {
     "data": {
      "text/plain": [
       "'Grown-ups: Put down the smartphones at mealtime'"
      ]
     },
     "execution_count": 11,
     "metadata": {},
     "output_type": "execute_result"
    }
   ],
   "source": [
    "newsdf[newsdf.Category == 'm'].Headline.iloc[0]\n",
    "#Below is an example of a headline that belongs to the medical category."
   ]
  },
  {
   "cell_type": "code",
   "execution_count": 12,
   "metadata": {},
   "outputs": [
    {
     "data": {
      "text/plain": [
       "'Titanfall Review Roundup'"
      ]
     },
     "execution_count": 12,
     "metadata": {},
     "output_type": "execute_result"
    }
   ],
   "source": [
    "newsdf[newsdf.Category == 't'].Headline.iloc[0]\n",
    "#Below is an example of a headline that belongs to the technology category."
   ]
  },
  {
   "cell_type": "markdown",
   "metadata": {},
   "source": [
    "### Data Set Distribution"
   ]
  },
  {
   "cell_type": "code",
   "execution_count": 13,
   "metadata": {
    "colab": {
     "base_uri": "https://localhost:8080/"
    },
    "id": "WhfUtHxj91WA",
    "outputId": "1db84c31-dc04-4262-8f45-b2e2014d4161"
   },
   "outputs": [
    {
     "data": {
      "text/plain": [
       "e    152387\n",
       "b    115920\n",
       "t    108306\n",
       "m     45615\n",
       "Name: Category, dtype: int64"
      ]
     },
     "execution_count": 13,
     "metadata": {},
     "output_type": "execute_result"
    }
   ],
   "source": [
    "newsdf.Category.value_counts()\n",
    "#This tells us our newsdf data is imbalanced"
   ]
  },
  {
   "cell_type": "code",
   "execution_count": 14,
   "metadata": {},
   "outputs": [
    {
     "data": {
      "image/png": "[encoded data removed]",
      "text/plain": [
       "<Figure size 432x288 with 1 Axes>"
      ]
     },
     "metadata": {
      "needs_background": "light"
     },
     "output_type": "display_data"
    }
   ],
   "source": [
    "sns.countplot(data=newsdf, x='Category')\n",
    "plt.title(\"Plot showing the distribution of the target labels\")\n",
    "plt.show()"
   ]
  },
  {
   "cell_type": "markdown",
   "metadata": {},
   "source": [
    "`From the plot above, we can see that the classes are imbalamnced, with the medical category being the minority category.To solve the problem of imbalanced classes we will use undersampling techniques to reduce the number of occurences of the majority classes.`"
   ]
  },
  {
   "cell_type": "markdown",
   "metadata": {
    "id": "RXlQRZwVU7Dr"
   },
   "source": [
    "### Manual Under Sampling"
   ]
  },
  {
   "cell_type": "code",
   "execution_count": 15,
   "metadata": {
    "id": "ul_lxnXPMZRJ"
   },
   "outputs": [],
   "source": [
    "permutizer = np.random.permutation(newsdf.index)\n",
    "newsdf = newsdf.reindex(permutizer)\n",
    "#First, the current indices are randomly permuted.\n",
    "#This randomly permuted list of indices is then used to reindex the DF\n",
    "#This way, when we select the first k samples we are selecting a truly random sample."
   ]
  },
  {
   "cell_type": "code",
   "execution_count": 16,
   "metadata": {
    "colab": {
     "base_uri": "https://localhost:8080/"
    },
    "id": "cdZjwowCggxJ",
    "outputId": "8f7e4221-1550-4ac1-884e-c54849d145ff"
   },
   "outputs": [
    {
     "data": {
      "text/plain": [
       "array([239978, 309581,  16498, 304958, 159065], dtype=int64)"
      ]
     },
     "execution_count": 16,
     "metadata": {},
     "output_type": "execute_result"
    }
   ],
   "source": [
    "permutizer[:5]"
   ]
  },
  {
   "cell_type": "code",
   "execution_count": 17,
   "metadata": {
    "colab": {
     "base_uri": "https://localhost:8080/",
     "height": 234
    },
    "id": "7yd7NkIUNwfW",
    "outputId": "4cc484af-df68-4bcb-cad8-2e2503ab5660"
   },
   "outputs": [
    {
     "data": {
      "text/html": [
       "<div>\n",
       "<style scoped>\n",
       "    .dataframe tbody tr th:only-of-type {\n",
       "        vertical-align: middle;\n",
       "    }\n",
       "\n",
       "    .dataframe tbody tr th {\n",
       "        vertical-align: top;\n",
       "    }\n",
       "\n",
       "    .dataframe thead th {\n",
       "        text-align: right;\n",
       "    }\n",
       "</style>\n",
       "<table border=\"1\" class=\"dataframe\">\n",
       "  <thead>\n",
       "    <tr style=\"text-align: right;\">\n",
       "      <th></th>\n",
       "      <th>Headline</th>\n",
       "      <th>URL</th>\n",
       "      <th>Category</th>\n",
       "    </tr>\n",
       "    <tr>\n",
       "      <th>0</th>\n",
       "      <th></th>\n",
       "      <th></th>\n",
       "      <th></th>\n",
       "    </tr>\n",
       "  </thead>\n",
       "  <tbody>\n",
       "    <tr>\n",
       "      <th>239978</th>\n",
       "      <td>Update: Paul McCartney has been hospitalized</td>\n",
       "      <td>http://consequenceofsound.net/2014/05/report-p...</td>\n",
       "      <td>e</td>\n",
       "    </tr>\n",
       "    <tr>\n",
       "      <th>309581</th>\n",
       "      <td>Oracle to purchase Micros Systems for $5.3 bil...</td>\n",
       "      <td>http://www.thewestsidestory.net/2014/06/23/133...</td>\n",
       "      <td>t</td>\n",
       "    </tr>\n",
       "    <tr>\n",
       "      <th>16498</th>\n",
       "      <td>GM Ramps Up Recalls, Adds 1.3 Million Units</td>\n",
       "      <td>http://www.autoremarketing.com/retail/gm-ramps...</td>\n",
       "      <td>b</td>\n",
       "    </tr>\n",
       "    <tr>\n",
       "      <th>304958</th>\n",
       "      <td>USDA grants license for PEDv vaccine</td>\n",
       "      <td>http://www.farmanddairy.com/news/usda-grants-l...</td>\n",
       "      <td>m</td>\n",
       "    </tr>\n",
       "    <tr>\n",
       "      <th>159065</th>\n",
       "      <td>Nasdaq ends higher on Apple; Ukraine curbs bro...</td>\n",
       "      <td>http://www.cnbc.com/id/101610518</td>\n",
       "      <td>b</td>\n",
       "    </tr>\n",
       "  </tbody>\n",
       "</table>\n",
       "</div>"
      ],
      "text/plain": [
       "                                                 Headline  \\\n",
       "0                                                           \n",
       "239978       Update: Paul McCartney has been hospitalized   \n",
       "309581  Oracle to purchase Micros Systems for $5.3 bil...   \n",
       "16498         GM Ramps Up Recalls, Adds 1.3 Million Units   \n",
       "304958               USDA grants license for PEDv vaccine   \n",
       "159065  Nasdaq ends higher on Apple; Ukraine curbs bro...   \n",
       "\n",
       "                                                      URL Category  \n",
       "0                                                                   \n",
       "239978  http://consequenceofsound.net/2014/05/report-p...        e  \n",
       "309581  http://www.thewestsidestory.net/2014/06/23/133...        t  \n",
       "16498   http://www.autoremarketing.com/retail/gm-ramps...        b  \n",
       "304958  http://www.farmanddairy.com/news/usda-grants-l...        m  \n",
       "159065                   http://www.cnbc.com/id/101610518        b  "
      ]
     },
     "execution_count": 17,
     "metadata": {},
     "output_type": "execute_result"
    }
   ],
   "source": [
    "newsdf.head()"
   ]
  },
  {
   "cell_type": "code",
   "execution_count": 18,
   "metadata": {
    "id": "FOS00aXHOD_P"
   },
   "outputs": [],
   "source": [
    "b = newsdf[newsdf.Category == \"b\"].iloc[:45000]\n",
    "e= newsdf[newsdf.Category == \"e\"].iloc[:45000]\n",
    "m = newsdf[newsdf.Category == \"m\"].iloc[:45000]\n",
    "t = newsdf[newsdf.Category == \"t\"].iloc[:45000]\n"
   ]
  },
  {
   "cell_type": "code",
   "execution_count": 19,
   "metadata": {
    "colab": {
     "base_uri": "https://localhost:8080/",
     "height": 234
    },
    "id": "N_2bGnJzOmXp",
    "outputId": "de209504-6199-4e62-eb8d-0be6c6a93f68"
   },
   "outputs": [
    {
     "data": {
      "text/html": [
       "<div>\n",
       "<style scoped>\n",
       "    .dataframe tbody tr th:only-of-type {\n",
       "        vertical-align: middle;\n",
       "    }\n",
       "\n",
       "    .dataframe tbody tr th {\n",
       "        vertical-align: top;\n",
       "    }\n",
       "\n",
       "    .dataframe thead th {\n",
       "        text-align: right;\n",
       "    }\n",
       "</style>\n",
       "<table border=\"1\" class=\"dataframe\">\n",
       "  <thead>\n",
       "    <tr style=\"text-align: right;\">\n",
       "      <th></th>\n",
       "      <th>Headline</th>\n",
       "      <th>URL</th>\n",
       "      <th>Category</th>\n",
       "    </tr>\n",
       "    <tr>\n",
       "      <th>0</th>\n",
       "      <th></th>\n",
       "      <th></th>\n",
       "      <th></th>\n",
       "    </tr>\n",
       "  </thead>\n",
       "  <tbody>\n",
       "    <tr>\n",
       "      <th>16498</th>\n",
       "      <td>GM Ramps Up Recalls, Adds 1.3 Million Units</td>\n",
       "      <td>http://www.autoremarketing.com/retail/gm-ramps...</td>\n",
       "      <td>b</td>\n",
       "    </tr>\n",
       "    <tr>\n",
       "      <th>159065</th>\n",
       "      <td>Nasdaq ends higher on Apple; Ukraine curbs bro...</td>\n",
       "      <td>http://www.cnbc.com/id/101610518</td>\n",
       "      <td>b</td>\n",
       "    </tr>\n",
       "    <tr>\n",
       "      <th>305451</th>\n",
       "      <td>Matter of concern: For now, Amazon Fire phone ...</td>\n",
       "      <td>http://tech.firstpost.com/news-analysis/matter...</td>\n",
       "      <td>b</td>\n",
       "    </tr>\n",
       "    <tr>\n",
       "      <th>29819</th>\n",
       "      <td>29 of 30 big banks pass Fed's stress test</td>\n",
       "      <td>http://www.washingtonpost.com/business/economy...</td>\n",
       "      <td>b</td>\n",
       "    </tr>\n",
       "    <tr>\n",
       "      <th>248011</th>\n",
       "      <td>PBS's Ifill Fails to Ask Geithner About Admiss...</td>\n",
       "      <td>http://newsbusters.org/blogs/paul-bremmer/2014...</td>\n",
       "      <td>b</td>\n",
       "    </tr>\n",
       "  </tbody>\n",
       "</table>\n",
       "</div>"
      ],
      "text/plain": [
       "                                                 Headline  \\\n",
       "0                                                           \n",
       "16498         GM Ramps Up Recalls, Adds 1.3 Million Units   \n",
       "159065  Nasdaq ends higher on Apple; Ukraine curbs bro...   \n",
       "305451  Matter of concern: For now, Amazon Fire phone ...   \n",
       "29819           29 of 30 big banks pass Fed's stress test   \n",
       "248011  PBS's Ifill Fails to Ask Geithner About Admiss...   \n",
       "\n",
       "                                                      URL Category  \n",
       "0                                                                   \n",
       "16498   http://www.autoremarketing.com/retail/gm-ramps...        b  \n",
       "159065                   http://www.cnbc.com/id/101610518        b  \n",
       "305451  http://tech.firstpost.com/news-analysis/matter...        b  \n",
       "29819   http://www.washingtonpost.com/business/economy...        b  \n",
       "248011  http://newsbusters.org/blogs/paul-bremmer/2014...        b  "
      ]
     },
     "execution_count": 19,
     "metadata": {},
     "output_type": "execute_result"
    }
   ],
   "source": [
    "b.head()"
   ]
  },
  {
   "cell_type": "code",
   "execution_count": 20,
   "metadata": {
    "colab": {
     "base_uri": "https://localhost:8080/"
    },
    "id": "hlOKwxJcOnlz",
    "outputId": "a8f1ae04-4509-4163-e7ad-ba6f564931a5"
   },
   "outputs": [
    {
     "data": {
      "text/plain": [
       "((45000, 3), (45000, 3), (45000, 3), (45000, 3))"
      ]
     },
     "execution_count": 20,
     "metadata": {},
     "output_type": "execute_result"
    }
   ],
   "source": [
    "b.shape, e.shape, t.shape, m.shape"
   ]
  },
  {
   "cell_type": "code",
   "execution_count": 21,
   "metadata": {
    "id": "Wp8ZK8HdO1p9"
   },
   "outputs": [],
   "source": [
    "balanced = pd.concat([e, b, m, t], axis=0, ignore_index=True)"
   ]
  },
  {
   "cell_type": "code",
   "execution_count": 22,
   "metadata": {
    "colab": {
     "base_uri": "https://localhost:8080/",
     "height": 203
    },
    "id": "Qzd3CK3FPBKJ",
    "outputId": "ccf3ba52-b486-41ee-e3c2-ee54f6798a97"
   },
   "outputs": [
    {
     "data": {
      "text/html": [
       "<div>\n",
       "<style scoped>\n",
       "    .dataframe tbody tr th:only-of-type {\n",
       "        vertical-align: middle;\n",
       "    }\n",
       "\n",
       "    .dataframe tbody tr th {\n",
       "        vertical-align: top;\n",
       "    }\n",
       "\n",
       "    .dataframe thead th {\n",
       "        text-align: right;\n",
       "    }\n",
       "</style>\n",
       "<table border=\"1\" class=\"dataframe\">\n",
       "  <thead>\n",
       "    <tr style=\"text-align: right;\">\n",
       "      <th></th>\n",
       "      <th>Headline</th>\n",
       "      <th>URL</th>\n",
       "      <th>Category</th>\n",
       "    </tr>\n",
       "  </thead>\n",
       "  <tbody>\n",
       "    <tr>\n",
       "      <th>0</th>\n",
       "      <td>Update: Paul McCartney has been hospitalized</td>\n",
       "      <td>http://consequenceofsound.net/2014/05/report-p...</td>\n",
       "      <td>e</td>\n",
       "    </tr>\n",
       "    <tr>\n",
       "      <th>1</th>\n",
       "      <td>Tonight's TV picks: Jack's back in '24: Live A...</td>\n",
       "      <td>http://www.mercurynews.com/spotlight/ci_256981...</td>\n",
       "      <td>e</td>\n",
       "    </tr>\n",
       "    <tr>\n",
       "      <th>2</th>\n",
       "      <td>'Full House' Revival: Original Cast, Producers...</td>\n",
       "      <td>http://www.hngn.com/articles/40402/20140826/fu...</td>\n",
       "      <td>e</td>\n",
       "    </tr>\n",
       "    <tr>\n",
       "      <th>3</th>\n",
       "      <td>Report: Authorities Investigating Willow Smith...</td>\n",
       "      <td>http://www.wlac.com/onair/dan-eidem-49263/repo...</td>\n",
       "      <td>e</td>\n",
       "    </tr>\n",
       "    <tr>\n",
       "      <th>4</th>\n",
       "      <td>NPH, At Last! See How I Met Your Mother Stars ...</td>\n",
       "      <td>http://www.broadway.com/buzz/175207/nph-at-las...</td>\n",
       "      <td>e</td>\n",
       "    </tr>\n",
       "  </tbody>\n",
       "</table>\n",
       "</div>"
      ],
      "text/plain": [
       "                                            Headline  \\\n",
       "0       Update: Paul McCartney has been hospitalized   \n",
       "1  Tonight's TV picks: Jack's back in '24: Live A...   \n",
       "2  'Full House' Revival: Original Cast, Producers...   \n",
       "3  Report: Authorities Investigating Willow Smith...   \n",
       "4  NPH, At Last! See How I Met Your Mother Stars ...   \n",
       "\n",
       "                                                 URL Category  \n",
       "0  http://consequenceofsound.net/2014/05/report-p...        e  \n",
       "1  http://www.mercurynews.com/spotlight/ci_256981...        e  \n",
       "2  http://www.hngn.com/articles/40402/20140826/fu...        e  \n",
       "3  http://www.wlac.com/onair/dan-eidem-49263/repo...        e  \n",
       "4  http://www.broadway.com/buzz/175207/nph-at-las...        e  "
      ]
     },
     "execution_count": 22,
     "metadata": {},
     "output_type": "execute_result"
    }
   ],
   "source": [
    "balanced.head()"
   ]
  },
  {
   "cell_type": "code",
   "execution_count": 23,
   "metadata": {
    "colab": {
     "base_uri": "https://localhost:8080/",
     "height": 203
    },
    "id": "qhUkEkPNQ2lS",
    "outputId": "bb848b5b-75d5-4600-e411-5540caf08d37"
   },
   "outputs": [
    {
     "data": {
      "text/html": [
       "<div>\n",
       "<style scoped>\n",
       "    .dataframe tbody tr th:only-of-type {\n",
       "        vertical-align: middle;\n",
       "    }\n",
       "\n",
       "    .dataframe tbody tr th {\n",
       "        vertical-align: top;\n",
       "    }\n",
       "\n",
       "    .dataframe thead th {\n",
       "        text-align: right;\n",
       "    }\n",
       "</style>\n",
       "<table border=\"1\" class=\"dataframe\">\n",
       "  <thead>\n",
       "    <tr style=\"text-align: right;\">\n",
       "      <th></th>\n",
       "      <th>Headline</th>\n",
       "      <th>URL</th>\n",
       "      <th>Category</th>\n",
       "    </tr>\n",
       "  </thead>\n",
       "  <tbody>\n",
       "    <tr>\n",
       "      <th>179995</th>\n",
       "      <td>Astronomers spot distant planet in \"habitable ...</td>\n",
       "      <td>http://www.laprensasa.com/309_america-in-engli...</td>\n",
       "      <td>t</td>\n",
       "    </tr>\n",
       "    <tr>\n",
       "      <th>179996</th>\n",
       "      <td>Year-on-year revenue rise for Apple</td>\n",
       "      <td>http://news.uk.msn.com/year-on-year-revenue-ri...</td>\n",
       "      <td>t</td>\n",
       "    </tr>\n",
       "    <tr>\n",
       "      <th>179997</th>\n",
       "      <td>After Detour, Soyuz Successfully Docks With ISS</td>\n",
       "      <td>http://wwno.org/post/after-detour-soyuz-succes...</td>\n",
       "      <td>t</td>\n",
       "    </tr>\n",
       "    <tr>\n",
       "      <th>179998</th>\n",
       "      <td>Aussie scientists create new element</td>\n",
       "      <td>http://www.tntmagazine.com/news/australia-news...</td>\n",
       "      <td>t</td>\n",
       "    </tr>\n",
       "    <tr>\n",
       "      <th>179999</th>\n",
       "      <td>Could the DirecTV Deal Threaten AT&amp;T's Dividend?</td>\n",
       "      <td>http://www.fool.com/investing/general/2014/05/...</td>\n",
       "      <td>t</td>\n",
       "    </tr>\n",
       "  </tbody>\n",
       "</table>\n",
       "</div>"
      ],
      "text/plain": [
       "                                                 Headline  \\\n",
       "179995  Astronomers spot distant planet in \"habitable ...   \n",
       "179996                Year-on-year revenue rise for Apple   \n",
       "179997    After Detour, Soyuz Successfully Docks With ISS   \n",
       "179998               Aussie scientists create new element   \n",
       "179999   Could the DirecTV Deal Threaten AT&T's Dividend?   \n",
       "\n",
       "                                                      URL Category  \n",
       "179995  http://www.laprensasa.com/309_america-in-engli...        t  \n",
       "179996  http://news.uk.msn.com/year-on-year-revenue-ri...        t  \n",
       "179997  http://wwno.org/post/after-detour-soyuz-succes...        t  \n",
       "179998  http://www.tntmagazine.com/news/australia-news...        t  \n",
       "179999  http://www.fool.com/investing/general/2014/05/...        t  "
      ]
     },
     "execution_count": 23,
     "metadata": {},
     "output_type": "execute_result"
    }
   ],
   "source": [
    "balanced.tail()"
   ]
  },
  {
   "cell_type": "code",
   "execution_count": 24,
   "metadata": {
    "id": "HrpCkqdEPIPL"
   },
   "outputs": [],
   "source": [
    "balanced_df = balanced.sample(len(balanced))\n",
    "#This second reindexing is to ensure the classes ocur at random throughout the dataset"
   ]
  },
  {
   "cell_type": "code",
   "execution_count": 25,
   "metadata": {
    "colab": {
     "base_uri": "https://localhost:8080/",
     "height": 203
    },
    "id": "9ljNJHszRB-7",
    "outputId": "5fbf6f1b-2bc5-4d9f-fea6-3133a7ffa9f6"
   },
   "outputs": [
    {
     "data": {
      "text/html": [
       "<div>\n",
       "<style scoped>\n",
       "    .dataframe tbody tr th:only-of-type {\n",
       "        vertical-align: middle;\n",
       "    }\n",
       "\n",
       "    .dataframe tbody tr th {\n",
       "        vertical-align: top;\n",
       "    }\n",
       "\n",
       "    .dataframe thead th {\n",
       "        text-align: right;\n",
       "    }\n",
       "</style>\n",
       "<table border=\"1\" class=\"dataframe\">\n",
       "  <thead>\n",
       "    <tr style=\"text-align: right;\">\n",
       "      <th></th>\n",
       "      <th>Headline</th>\n",
       "      <th>URL</th>\n",
       "      <th>Category</th>\n",
       "    </tr>\n",
       "  </thead>\n",
       "  <tbody>\n",
       "    <tr>\n",
       "      <th>98508</th>\n",
       "      <td>Tick season underway in Kittitas County</td>\n",
       "      <td>http://www.dailyrecordnews.com/inbrief/tick-se...</td>\n",
       "      <td>m</td>\n",
       "    </tr>\n",
       "    <tr>\n",
       "      <th>77195</th>\n",
       "      <td>WSJ: AT&amp;T/DirecTV deal could be announced in t...</td>\n",
       "      <td>http://seekingalpha.com/news/1745053-wsj-at-an...</td>\n",
       "      <td>b</td>\n",
       "    </tr>\n",
       "    <tr>\n",
       "      <th>132516</th>\n",
       "      <td>Playtex Breast Pump Power Adapters Recalled Du...</td>\n",
       "      <td>http://consumer.healthday.com/health-technolog...</td>\n",
       "      <td>m</td>\n",
       "    </tr>\n",
       "    <tr>\n",
       "      <th>51715</th>\n",
       "      <td>GM Recalls 3.2 Million More Cars For Faulty Ig...</td>\n",
       "      <td>http://kplu.org/post/gm-recalls-32-million-mor...</td>\n",
       "      <td>b</td>\n",
       "    </tr>\n",
       "    <tr>\n",
       "      <th>100940</th>\n",
       "      <td>Hysterectomy device pulled off market</td>\n",
       "      <td>http://www.battlecreekenquirer.com/usatoday/ar...</td>\n",
       "      <td>m</td>\n",
       "    </tr>\n",
       "  </tbody>\n",
       "</table>\n",
       "</div>"
      ],
      "text/plain": [
       "                                                 Headline  \\\n",
       "98508             Tick season underway in Kittitas County   \n",
       "77195   WSJ: AT&T/DirecTV deal could be announced in t...   \n",
       "132516  Playtex Breast Pump Power Adapters Recalled Du...   \n",
       "51715   GM Recalls 3.2 Million More Cars For Faulty Ig...   \n",
       "100940              Hysterectomy device pulled off market   \n",
       "\n",
       "                                                      URL Category  \n",
       "98508   http://www.dailyrecordnews.com/inbrief/tick-se...        m  \n",
       "77195   http://seekingalpha.com/news/1745053-wsj-at-an...        b  \n",
       "132516  http://consumer.healthday.com/health-technolog...        m  \n",
       "51715   http://kplu.org/post/gm-recalls-32-million-mor...        b  \n",
       "100940  http://www.battlecreekenquirer.com/usatoday/ar...        m  "
      ]
     },
     "execution_count": 25,
     "metadata": {},
     "output_type": "execute_result"
    }
   ],
   "source": [
    "balanced_df.head()"
   ]
  },
  {
   "cell_type": "code",
   "execution_count": 26,
   "metadata": {
    "colab": {
     "base_uri": "https://localhost:8080/"
    },
    "id": "y_w_0fnpGUW_",
    "outputId": "0a747be5-5aad-4829-ca5f-5450b8afb86f"
   },
   "outputs": [
    {
     "data": {
      "text/plain": [
       "m    263\n",
       "t    248\n",
       "b    246\n",
       "e    243\n",
       "Name: Category, dtype: int64"
      ]
     },
     "execution_count": 26,
     "metadata": {},
     "output_type": "execute_result"
    }
   ],
   "source": [
    "balanced_df.head(1000).Category.value_counts()\n",
    "#This demonstrates the effectiveness of our balancing operation"
   ]
  },
  {
   "cell_type": "markdown",
   "metadata": {},
   "source": [
    "### Label Encoding of the target labels"
   ]
  },
  {
   "cell_type": "code",
   "execution_count": 27,
   "metadata": {
    "id": "ElX4elYuRIrr"
   },
   "outputs": [],
   "source": [
    "le = LabelEncoder()\n",
    "enclabels = le.fit_transform(balanced_df.Category)"
   ]
  },
  {
   "cell_type": "code",
   "execution_count": 28,
   "metadata": {
    "colab": {
     "base_uri": "https://localhost:8080/"
    },
    "id": "MoLJwLYORzu5",
    "outputId": "9af20715-49c8-4b04-dab6-7379a96d5564"
   },
   "outputs": [
    {
     "data": {
      "text/plain": [
       "array([2, 0, 2, ..., 1, 2, 1])"
      ]
     },
     "execution_count": 28,
     "metadata": {},
     "output_type": "execute_result"
    }
   ],
   "source": [
    "enclabels"
   ]
  },
  {
   "cell_type": "code",
   "execution_count": 29,
   "metadata": {
    "colab": {
     "base_uri": "https://localhost:8080/"
    },
    "id": "l5uD0vQ3R8rU",
    "outputId": "7893d695-1bee-4ada-944d-2d4e53d39313"
   },
   "outputs": [
    {
     "data": {
      "text/plain": [
       "array(['b', 'e', 'm', 't'], dtype=object)"
      ]
     },
     "execution_count": 29,
     "metadata": {},
     "output_type": "execute_result"
    }
   ],
   "source": [
    "le.classes_"
   ]
  },
  {
   "cell_type": "code",
   "execution_count": 30,
   "metadata": {
    "id": "N1qEuiODa0SV"
   },
   "outputs": [],
   "source": [
    "balanced_df.loc[:,\"Category\"] = enclabels"
   ]
  },
  {
   "cell_type": "code",
   "execution_count": 31,
   "metadata": {
    "colab": {
     "base_uri": "https://localhost:8080/",
     "height": 203
    },
    "id": "trIMjKTdci6H",
    "outputId": "351430f9-7a7d-4a89-a1a4-dcff6d0c84e0"
   },
   "outputs": [
    {
     "data": {
      "text/html": [
       "<div>\n",
       "<style scoped>\n",
       "    .dataframe tbody tr th:only-of-type {\n",
       "        vertical-align: middle;\n",
       "    }\n",
       "\n",
       "    .dataframe tbody tr th {\n",
       "        vertical-align: top;\n",
       "    }\n",
       "\n",
       "    .dataframe thead th {\n",
       "        text-align: right;\n",
       "    }\n",
       "</style>\n",
       "<table border=\"1\" class=\"dataframe\">\n",
       "  <thead>\n",
       "    <tr style=\"text-align: right;\">\n",
       "      <th></th>\n",
       "      <th>Headline</th>\n",
       "      <th>URL</th>\n",
       "      <th>Category</th>\n",
       "    </tr>\n",
       "  </thead>\n",
       "  <tbody>\n",
       "    <tr>\n",
       "      <th>98508</th>\n",
       "      <td>Tick season underway in Kittitas County</td>\n",
       "      <td>http://www.dailyrecordnews.com/inbrief/tick-se...</td>\n",
       "      <td>2</td>\n",
       "    </tr>\n",
       "    <tr>\n",
       "      <th>77195</th>\n",
       "      <td>WSJ: AT&amp;T/DirecTV deal could be announced in t...</td>\n",
       "      <td>http://seekingalpha.com/news/1745053-wsj-at-an...</td>\n",
       "      <td>0</td>\n",
       "    </tr>\n",
       "    <tr>\n",
       "      <th>132516</th>\n",
       "      <td>Playtex Breast Pump Power Adapters Recalled Du...</td>\n",
       "      <td>http://consumer.healthday.com/health-technolog...</td>\n",
       "      <td>2</td>\n",
       "    </tr>\n",
       "    <tr>\n",
       "      <th>51715</th>\n",
       "      <td>GM Recalls 3.2 Million More Cars For Faulty Ig...</td>\n",
       "      <td>http://kplu.org/post/gm-recalls-32-million-mor...</td>\n",
       "      <td>0</td>\n",
       "    </tr>\n",
       "    <tr>\n",
       "      <th>100940</th>\n",
       "      <td>Hysterectomy device pulled off market</td>\n",
       "      <td>http://www.battlecreekenquirer.com/usatoday/ar...</td>\n",
       "      <td>2</td>\n",
       "    </tr>\n",
       "  </tbody>\n",
       "</table>\n",
       "</div>"
      ],
      "text/plain": [
       "                                                 Headline  \\\n",
       "98508             Tick season underway in Kittitas County   \n",
       "77195   WSJ: AT&T/DirecTV deal could be announced in t...   \n",
       "132516  Playtex Breast Pump Power Adapters Recalled Du...   \n",
       "51715   GM Recalls 3.2 Million More Cars For Faulty Ig...   \n",
       "100940              Hysterectomy device pulled off market   \n",
       "\n",
       "                                                      URL  Category  \n",
       "98508   http://www.dailyrecordnews.com/inbrief/tick-se...         2  \n",
       "77195   http://seekingalpha.com/news/1745053-wsj-at-an...         0  \n",
       "132516  http://consumer.healthday.com/health-technolog...         2  \n",
       "51715   http://kplu.org/post/gm-recalls-32-million-mor...         0  \n",
       "100940  http://www.battlecreekenquirer.com/usatoday/ar...         2  "
      ]
     },
     "execution_count": 31,
     "metadata": {},
     "output_type": "execute_result"
    }
   ],
   "source": [
    "balanced_df.head()"
   ]
  },
  {
   "cell_type": "code",
   "execution_count": 32,
   "metadata": {
    "id": "dQplvcWGdVfF"
   },
   "outputs": [],
   "source": [
    "labels = tf.keras.utils.to_categorical(balanced_df.Category)"
   ]
  },
  {
   "cell_type": "code",
   "execution_count": 33,
   "metadata": {
    "colab": {
     "base_uri": "https://localhost:8080/"
    },
    "id": "aibdKFV_ePsp",
    "outputId": "38b4a85b-c126-4e86-9df1-87277cd72a08"
   },
   "outputs": [
    {
     "data": {
      "text/plain": [
       "array([[0., 0., 1., 0.],\n",
       "       [1., 0., 0., 0.],\n",
       "       [0., 0., 1., 0.],\n",
       "       ...,\n",
       "       [0., 1., 0., 0.],\n",
       "       [0., 0., 1., 0.],\n",
       "       [0., 1., 0., 0.]], dtype=float32)"
      ]
     },
     "execution_count": 33,
     "metadata": {},
     "output_type": "execute_result"
    }
   ],
   "source": [
    "labels"
   ]
  },
  {
   "cell_type": "code",
   "execution_count": 34,
   "metadata": {
    "colab": {
     "base_uri": "https://localhost:8080/"
    },
    "id": "X5TJSi6pe7KP",
    "outputId": "2dde826a-6f42-4d3f-9bd0-23ac8ea64593"
   },
   "outputs": [
    {
     "data": {
      "text/plain": [
       "98508               Tick season underway in Kittitas County\n",
       "77195     WSJ: AT&T/DirecTV deal could be announced in t...\n",
       "132516    Playtex Breast Pump Power Adapters Recalled Du...\n",
       "51715     GM Recalls 3.2 Million More Cars For Faulty Ig...\n",
       "100940                Hysterectomy device pulled off market\n",
       "Name: Headline, dtype: object"
      ]
     },
     "execution_count": 34,
     "metadata": {},
     "output_type": "execute_result"
    }
   ],
   "source": [
    "balanced_df.Headline.head()"
   ]
  },
  {
   "cell_type": "code",
   "execution_count": 35,
   "metadata": {
    "id": "kVzqsPgHi1Mp"
   },
   "outputs": [],
   "source": [
    "X, y = balanced_df.Headline, labels"
   ]
  },
  {
   "cell_type": "code",
   "execution_count": 36,
   "metadata": {
    "colab": {
     "base_uri": "https://localhost:8080/"
    },
    "id": "OqDjXsm0i7Ir",
    "outputId": "c09f0f02-b4ae-48f3-a69d-943c3b96b56a"
   },
   "outputs": [
    {
     "name": "stdout",
     "output_type": "stream",
     "text": [
      "(180000,) (180000, 4)\n"
     ]
    }
   ],
   "source": [
    "print(X.shape, y.shape)"
   ]
  },
  {
   "cell_type": "markdown",
   "metadata": {
    "id": "rX3voByiW891"
   },
   "source": [
    "### Text Preprocessing and Feature Extraction"
   ]
  },
  {
   "cell_type": "code",
   "execution_count": 37,
   "metadata": {
    "colab": {
     "base_uri": "https://localhost:8080/"
    },
    "id": "DoxtSfRplcbZ",
    "outputId": "90d29b55-db36-4a1a-a598-81cebff7d5ea"
   },
   "outputs": [],
   "source": [
    "import nltk\n",
    "from nltk.stem import WordNetLemmatizer\n",
    "from nltk.corpus import stopwords\n",
    "stopwords = stopwords.words(\"english\")\n",
    "from string import punctuation"
   ]
  },
  {
   "cell_type": "code",
   "execution_count": 38,
   "metadata": {
    "colab": {
     "base_uri": "https://localhost:8080/"
    },
    "id": "wLznbANdmEEG",
    "outputId": "cc5b81f8-fc6e-4e1c-ac37-832c98207d63"
   },
   "outputs": [
    {
     "data": {
      "text/plain": [
       "'!\"#$%&\\'()*+,-./:;<=>?@[\\\\]^_`{|}~'"
      ]
     },
     "execution_count": 38,
     "metadata": {},
     "output_type": "execute_result"
    }
   ],
   "source": [
    "punctuation"
   ]
  },
  {
   "cell_type": "code",
   "execution_count": 39,
   "metadata": {},
   "outputs": [
    {
     "data": {
      "text/plain": [
       "['below',\n",
       " 'how',\n",
       " \"doesn't\",\n",
       " 'we',\n",
       " \"hadn't\",\n",
       " '{',\n",
       " 'all',\n",
       " 'into',\n",
       " 'out',\n",
       " 'them',\n",
       " 'myself',\n",
       " 'so',\n",
       " 'had',\n",
       " 'nor',\n",
       " 'your',\n",
       " '(',\n",
       " 'their',\n",
       " 'm',\n",
       " 'few',\n",
       " 'him']"
      ]
     },
     "execution_count": 39,
     "metadata": {},
     "output_type": "execute_result"
    }
   ],
   "source": [
    "to_remove = list(set(punctuation).union(set(stopwords)))\n",
    "to_remove[:20]"
   ]
  },
  {
   "cell_type": "code",
   "execution_count": 40,
   "metadata": {},
   "outputs": [],
   "source": [
    "lemmatizer = WordNetLemmatizer()"
   ]
  },
  {
   "cell_type": "code",
   "execution_count": 41,
   "metadata": {
    "id": "VaSjKOfVmMI4"
   },
   "outputs": [],
   "source": [
    "def text_preprocessor(doc):\n",
    "    doc = doc.lower()\n",
    "    doc = nltk.word_tokenize(doc)\n",
    "    doc = [lemmatizer.lemmatize(word) for word in doc if word not in to_remove and word.isalpha()]\n",
    "    doc = \" \".join(doc)\n",
    "\n",
    "    return doc"
   ]
  },
  {
   "cell_type": "code",
   "execution_count": 42,
   "metadata": {},
   "outputs": [
    {
     "data": {
      "text/plain": [
       "\"New Photos: Angelina Jolie Goes Strapless At The 'Maleficent' Photo Call, Adam  ...\""
      ]
     },
     "execution_count": 42,
     "metadata": {},
     "output_type": "execute_result"
    }
   ],
   "source": [
    "X.loc[10]"
   ]
  },
  {
   "cell_type": "code",
   "execution_count": 43,
   "metadata": {
    "colab": {
     "base_uri": "https://localhost:8080/",
     "height": 35
    },
    "id": "l7qVVMITm17-",
    "outputId": "95e1bf3f-618d-41bf-b9c0-12744be8803c"
   },
   "outputs": [
    {
     "data": {
      "text/plain": [
       "'new photo angelina jolie go strapless photo call adam'"
      ]
     },
     "execution_count": 43,
     "metadata": {},
     "output_type": "execute_result"
    }
   ],
   "source": [
    "text_preprocessor(X.loc[10])\n",
    "#An example of text after cleaning and lemmatization"
   ]
  },
  {
   "cell_type": "code",
   "execution_count": 44,
   "metadata": {
    "id": "BWdtOT36nU2d"
   },
   "outputs": [],
   "source": [
    "train_data = X.apply(text_preprocessor)"
   ]
  },
  {
   "cell_type": "code",
   "execution_count": 45,
   "metadata": {
    "colab": {
     "base_uri": "https://localhost:8080/"
    },
    "id": "Ac2aUF2eo9fV",
    "outputId": "5fc3a56b-cae3-4222-b35e-fa0e3dbc6ef0"
   },
   "outputs": [
    {
     "data": {
      "text/plain": [
       "98508                  tick season underway kittitas county\n",
       "77195                     wsj deal could announced two week\n",
       "132516    playtex breast pump power adapter recalled due...\n",
       "51715          gm recall million car faulty ignition switch\n",
       "100940                    hysterectomy device pulled market\n",
       "                                ...                        \n",
       "78471                           argentina default time year\n",
       "167312    everyone feel heat warns un climate change report\n",
       "17004     lana del rey cool video lana dance another old...\n",
       "115497    change cow eat could mean higher beer price fu...\n",
       "5429      box office guru wrapup divergent crush competi...\n",
       "Name: Headline, Length: 180000, dtype: object"
      ]
     },
     "execution_count": 45,
     "metadata": {},
     "output_type": "execute_result"
    }
   ],
   "source": [
    "train_data"
   ]
  },
  {
   "cell_type": "markdown",
   "metadata": {},
   "source": [
    "### Text Feature Extraction"
   ]
  },
  {
   "cell_type": "code",
   "execution_count": 46,
   "metadata": {
    "id": "Z6P5JjRfedbl"
   },
   "outputs": [],
   "source": [
    "vocab_size = 10000\n",
    "tokenizer = Tokenizer(num_words=vocab_size)"
   ]
  },
  {
   "cell_type": "code",
   "execution_count": 47,
   "metadata": {
    "colab": {
     "base_uri": "https://localhost:8080/"
    },
    "id": "Q-roMOi-TFsN",
    "outputId": "add7e64e-3eeb-45d5-a505-67596b591d75"
   },
   "outputs": [
    {
     "data": {
      "text/plain": [
       "<keras_preprocessing.text.Tokenizer at 0x247bfa03f10>"
      ]
     },
     "execution_count": 47,
     "metadata": {},
     "output_type": "execute_result"
    }
   ],
   "source": [
    "tokenizer"
   ]
  },
  {
   "cell_type": "code",
   "execution_count": 48,
   "metadata": {
    "colab": {
     "base_uri": "https://localhost:8080/",
     "height": 162
    },
    "id": "jXFgTK8AaMP0",
    "outputId": "9250aec7-9f1d-4701-d828-82b939fb8609"
   },
   "outputs": [],
   "source": [
    " tokenizer.fit_on_texts(train_data)"
   ]
  },
  {
   "cell_type": "code",
   "execution_count": 49,
   "metadata": {
    "colab": {
     "base_uri": "https://localhost:8080/"
    },
    "id": "q8NCaBIoZufk",
    "outputId": "94bbf23e-9cb9-4909-aac4-ac9cc87a99b9"
   },
   "outputs": [
    {
     "data": {
      "text/plain": [
       "31533"
      ]
     },
     "execution_count": 49,
     "metadata": {},
     "output_type": "execute_result"
    }
   ],
   "source": [
    "len(tokenizer.index_word)\n",
    "#There are 31,415 unique words in the vocabulary"
   ]
  },
  {
   "cell_type": "code",
   "execution_count": 50,
   "metadata": {
    "colab": {
     "base_uri": "https://localhost:8080/"
    },
    "id": "CdOSy7IJZmeh",
    "outputId": "f26d0fca-1f90-48ca-bf36-108224df760a"
   },
   "outputs": [
    {
     "data": {
      "text/plain": [
       "{1: 'new',\n",
       " 2: 'u',\n",
       " 3: 'say',\n",
       " 4: 'google',\n",
       " 5: 'may',\n",
       " 6: 'apple',\n",
       " 7: 'study',\n",
       " 8: 'report',\n",
       " 9: 'ebola',\n",
       " 10: 'samsung',\n",
       " 11: 'video',\n",
       " 12: 'first',\n",
       " 13: 'health',\n",
       " 14: 'get',\n",
       " 15: 'show',\n",
       " 16: 'price',\n",
       " 17: 'stock',\n",
       " 18: 'microsoft',\n",
       " 19: 'cancer',\n",
       " 20: 'day',\n",
       " 21: 'facebook',\n",
       " 22: 'one',\n",
       " 23: 'sale',\n",
       " 24: 'galaxy',\n",
       " 25: 'could',\n",
       " 26: 'million',\n",
       " 27: 'year',\n",
       " 28: 'case',\n",
       " 29: 'rate',\n",
       " 30: 'risk',\n",
       " 31: 'update',\n",
       " 32: 'west',\n",
       " 33: 'watch',\n",
       " 34: 'star',\n",
       " 35: 'china',\n",
       " 36: 'deal',\n",
       " 37: 'recall',\n",
       " 38: 'rise',\n",
       " 39: 'death',\n",
       " 40: 'virus',\n",
       " 41: 'world',\n",
       " 42: 'review',\n",
       " 43: 'news',\n",
       " 44: 'launch',\n",
       " 45: 'time',\n",
       " 46: 'make',\n",
       " 47: 'top',\n",
       " 48: 'market',\n",
       " 49: 'mers',\n",
       " 50: 'amazon',\n",
       " 51: 'season',\n",
       " 52: 'data',\n",
       " 53: 'take',\n",
       " 54: 'drug',\n",
       " 55: 'billion',\n",
       " 56: 'buy',\n",
       " 57: 'android',\n",
       " 58: 'kardashian',\n",
       " 59: 'woman',\n",
       " 60: 'help',\n",
       " 61: 'kim',\n",
       " 62: 'back',\n",
       " 63: 'find',\n",
       " 64: 'share',\n",
       " 65: 'twitter',\n",
       " 66: 'hit',\n",
       " 67: 'game',\n",
       " 68: 'test',\n",
       " 69: 'car',\n",
       " 70: 'plan',\n",
       " 71: 'gm',\n",
       " 72: 'outbreak',\n",
       " 73: 'life',\n",
       " 74: 'movie',\n",
       " 75: 'change',\n",
       " 76: 'go',\n",
       " 77: 'tv',\n",
       " 78: 'fall',\n",
       " 79: 'home',\n",
       " 80: 'set',\n",
       " 81: 'ceo',\n",
       " 82: 'week',\n",
       " 83: 'fda',\n",
       " 84: 'high',\n",
       " 85: 'release',\n",
       " 86: 'bank',\n",
       " 87: 'american',\n",
       " 88: 'state',\n",
       " 89: 'big',\n",
       " 90: 'people',\n",
       " 91: 'gas',\n",
       " 92: 'user',\n",
       " 93: 'company',\n",
       " 94: 'profit',\n",
       " 95: 'photo',\n",
       " 96: 'record',\n",
       " 97: 'iphone',\n",
       " 98: 'office',\n",
       " 99: 'cut',\n",
       " 100: 'blood',\n",
       " 101: 'see',\n",
       " 102: 'app',\n",
       " 103: 'talk',\n",
       " 104: 'phone',\n",
       " 105: 'heart',\n",
       " 106: 'court',\n",
       " 107: 'drop',\n",
       " 108: 'look',\n",
       " 109: 'offer',\n",
       " 110: 'throne',\n",
       " 111: 'job',\n",
       " 112: 'end',\n",
       " 113: 'earnings',\n",
       " 114: 'fed',\n",
       " 115: 'still',\n",
       " 116: 'war',\n",
       " 117: 'food',\n",
       " 118: 'child',\n",
       " 119: 'live',\n",
       " 120: 'official',\n",
       " 121: 'call',\n",
       " 122: 'future',\n",
       " 123: 'baby',\n",
       " 124: 'want',\n",
       " 125: 'global',\n",
       " 126: 'two',\n",
       " 127: 'oil',\n",
       " 128: 'award',\n",
       " 129: 'america',\n",
       " 130: 'business',\n",
       " 131: 'service',\n",
       " 132: 'pay',\n",
       " 133: 'higher',\n",
       " 134: 'music',\n",
       " 135: 'beat',\n",
       " 136: 'need',\n",
       " 137: 'climate',\n",
       " 138: 'found',\n",
       " 139: 'open',\n",
       " 140: 'internet',\n",
       " 141: 'give',\n",
       " 142: 'best',\n",
       " 143: 'uk',\n",
       " 144: 'dy',\n",
       " 145: 'trailer',\n",
       " 146: 'announces',\n",
       " 147: 'patient',\n",
       " 148: 'growth',\n",
       " 149: 'ipad',\n",
       " 150: 'next',\n",
       " 151: 'disease',\n",
       " 152: 'hospital',\n",
       " 153: 'wedding',\n",
       " 154: 'men',\n",
       " 155: 'fight',\n",
       " 156: 'kanye',\n",
       " 157: 'film',\n",
       " 158: 'dollar',\n",
       " 159: 'man',\n",
       " 160: 'air',\n",
       " 161: 'glass',\n",
       " 162: 'scientist',\n",
       " 163: 'know',\n",
       " 164: 'smartphone',\n",
       " 165: 'window',\n",
       " 166: 'free',\n",
       " 167: 'gain',\n",
       " 168: 'lower',\n",
       " 169: 'target',\n",
       " 170: 'dead',\n",
       " 171: 'today',\n",
       " 172: 'face',\n",
       " 173: 'tesla',\n",
       " 174: 'ban',\n",
       " 175: 'good',\n",
       " 176: 'reveals',\n",
       " 177: 'use',\n",
       " 178: 'loss',\n",
       " 179: 'miley',\n",
       " 180: 'xbox',\n",
       " 181: 'street',\n",
       " 182: 'feature',\n",
       " 183: 'county',\n",
       " 184: 'month',\n",
       " 185: 'spread',\n",
       " 186: 'cdc',\n",
       " 187: 'close',\n",
       " 188: 'raise',\n",
       " 189: 'cyrus',\n",
       " 190: 'ahead',\n",
       " 191: 'girl',\n",
       " 192: 'second',\n",
       " 193: 'rule',\n",
       " 194: 'percent',\n",
       " 195: 'medical',\n",
       " 196: 'win',\n",
       " 197: 'lead',\n",
       " 198: 'increase',\n",
       " 199: 'bieber',\n",
       " 200: 'doctor',\n",
       " 201: 'low',\n",
       " 202: 'fire',\n",
       " 203: 'another',\n",
       " 204: 'claim',\n",
       " 205: 'kid',\n",
       " 206: 'move',\n",
       " 207: 'autism',\n",
       " 208: 'linked',\n",
       " 209: 'april',\n",
       " 210: 'york',\n",
       " 211: 'issue',\n",
       " 212: 'red',\n",
       " 213: 'justin',\n",
       " 214: 'march',\n",
       " 215: 'nasa',\n",
       " 216: 'alzheimer',\n",
       " 217: 'chris',\n",
       " 218: 'episode',\n",
       " 219: 'africa',\n",
       " 220: 'obama',\n",
       " 221: 'device',\n",
       " 222: 'htc',\n",
       " 223: 'thing',\n",
       " 224: 'teen',\n",
       " 225: 'tax',\n",
       " 226: 'tech',\n",
       " 227: 'last',\n",
       " 228: 'way',\n",
       " 229: 'city',\n",
       " 230: 'result',\n",
       " 231: 'support',\n",
       " 232: 'post',\n",
       " 233: 'store',\n",
       " 234: 'date',\n",
       " 235: 'coming',\n",
       " 236: 'box',\n",
       " 237: 'like',\n",
       " 238: 'security',\n",
       " 239: 'euro',\n",
       " 240: 'return',\n",
       " 241: 'care',\n",
       " 242: 'v',\n",
       " 243: 'due',\n",
       " 244: 'fan',\n",
       " 245: 'gold',\n",
       " 246: 'recap',\n",
       " 247: 'mobile',\n",
       " 248: 'start',\n",
       " 249: 'work',\n",
       " 250: 'voice',\n",
       " 251: 'attack',\n",
       " 252: 'house',\n",
       " 253: 'plane',\n",
       " 254: 'cost',\n",
       " 255: 'mother',\n",
       " 256: 'family',\n",
       " 257: 'ecb',\n",
       " 258: 'consumer',\n",
       " 259: 'add',\n",
       " 260: 'airline',\n",
       " 261: 'heartbleed',\n",
       " 262: 'stop',\n",
       " 263: 'guinea',\n",
       " 264: 'finale',\n",
       " 265: 'early',\n",
       " 266: 'july',\n",
       " 267: 'jump',\n",
       " 268: 'ford',\n",
       " 269: 'michael',\n",
       " 270: 'young',\n",
       " 271: 'debut',\n",
       " 272: 'ipo',\n",
       " 273: 'brain',\n",
       " 274: 'june',\n",
       " 275: 'problem',\n",
       " 276: 'online',\n",
       " 277: 'jay',\n",
       " 278: 'japan',\n",
       " 279: 'play',\n",
       " 280: 'cell',\n",
       " 281: 'surface',\n",
       " 282: 'battle',\n",
       " 283: 'treatment',\n",
       " 284: 'search',\n",
       " 285: 'come',\n",
       " 286: 'net',\n",
       " 287: 'saudi',\n",
       " 288: 'latest',\n",
       " 289: 'trial',\n",
       " 290: 'researcher',\n",
       " 291: 'better',\n",
       " 292: 'z',\n",
       " 293: 'ukraine',\n",
       " 294: 'general',\n",
       " 295: 'california',\n",
       " 296: 'sony',\n",
       " 297: 'crash',\n",
       " 298: 'tour',\n",
       " 299: 'bid',\n",
       " 300: 'keep',\n",
       " 301: 'maker',\n",
       " 302: 'india',\n",
       " 303: 'beyonce',\n",
       " 304: 'bill',\n",
       " 305: 'warns',\n",
       " 306: 'confirms',\n",
       " 307: 'space',\n",
       " 308: 'among',\n",
       " 309: 'love',\n",
       " 310: 'sign',\n",
       " 311: 'nokia',\n",
       " 312: 'flight',\n",
       " 313: 'head',\n",
       " 314: 'recalled',\n",
       " 315: 'lg',\n",
       " 316: 'cause',\n",
       " 317: 'list',\n",
       " 318: 'marijuana',\n",
       " 319: 'mortgage',\n",
       " 320: 'patent',\n",
       " 321: 'breast',\n",
       " 322: 'government',\n",
       " 323: 'join',\n",
       " 324: 'wall',\n",
       " 325: 'water',\n",
       " 326: 'economy',\n",
       " 327: 'inflation',\n",
       " 328: 'age',\n",
       " 329: 'hold',\n",
       " 330: 'fear',\n",
       " 331: 'deadly',\n",
       " 332: 'unveils',\n",
       " 333: 'view',\n",
       " 334: 'probe',\n",
       " 335: 'public',\n",
       " 336: 'group',\n",
       " 337: 'planet',\n",
       " 338: 'friend',\n",
       " 339: 'school',\n",
       " 340: 'un',\n",
       " 341: 'chinese',\n",
       " 342: 'motor',\n",
       " 343: 'sell',\n",
       " 344: 'mar',\n",
       " 345: 'five',\n",
       " 346: 'pro',\n",
       " 347: 'since',\n",
       " 348: 'expected',\n",
       " 349: 'boost',\n",
       " 350: 'human',\n",
       " 351: 'kill',\n",
       " 352: 'control',\n",
       " 353: 'netflix',\n",
       " 354: 'eye',\n",
       " 355: 'name',\n",
       " 356: 'reach',\n",
       " 357: 'moon',\n",
       " 358: 'bad',\n",
       " 359: 'story',\n",
       " 360: 'system',\n",
       " 361: 'begin',\n",
       " 362: 'ad',\n",
       " 363: 'right',\n",
       " 364: 'worker',\n",
       " 365: 'level',\n",
       " 366: 'action',\n",
       " 367: 'research',\n",
       " 368: 'firm',\n",
       " 369: 'nile',\n",
       " 370: 'revenue',\n",
       " 371: 'weekend',\n",
       " 372: 'possible',\n",
       " 373: 'europe',\n",
       " 374: 'amid',\n",
       " 375: 'alibaba',\n",
       " 376: 'major',\n",
       " 377: 'despite',\n",
       " 378: 'turn',\n",
       " 379: 'step',\n",
       " 380: 'le',\n",
       " 381: 'night',\n",
       " 382: 'king',\n",
       " 383: 'tablet',\n",
       " 384: 'key',\n",
       " 385: 'io',\n",
       " 386: 'put',\n",
       " 387: 'challenge',\n",
       " 388: 'european',\n",
       " 389: 'investor',\n",
       " 390: 'likely',\n",
       " 391: 'vehicle',\n",
       " 392: 'north',\n",
       " 393: 'dog',\n",
       " 394: 'note',\n",
       " 395: 'blackberry',\n",
       " 396: 'toll',\n",
       " 397: 'missing',\n",
       " 398: 'much',\n",
       " 399: 'nearly',\n",
       " 400: 'boy',\n",
       " 401: 'file',\n",
       " 402: 'getting',\n",
       " 403: 'chief',\n",
       " 404: 'lohan',\n",
       " 405: 'director',\n",
       " 406: 'paul',\n",
       " 407: 'smoking',\n",
       " 408: 'might',\n",
       " 409: 'made',\n",
       " 410: 'malaysia',\n",
       " 411: 'revealed',\n",
       " 412: 'meet',\n",
       " 413: 'soon',\n",
       " 414: 'aid',\n",
       " 415: 'apps',\n",
       " 416: 'obamacare',\n",
       " 417: 'actor',\n",
       " 418: 'yellen',\n",
       " 419: 'customer',\n",
       " 420: 'real',\n",
       " 421: 'past',\n",
       " 422: 'three',\n",
       " 423: 'expert',\n",
       " 424: 'fcc',\n",
       " 425: 'russia',\n",
       " 426: 'law',\n",
       " 427: 'available',\n",
       " 428: 'reportedly',\n",
       " 429: 'skin',\n",
       " 430: 'charge',\n",
       " 431: 'four',\n",
       " 432: 'neutrality',\n",
       " 433: 'safety',\n",
       " 434: 'iraq',\n",
       " 435: 'model',\n",
       " 436: 'mom',\n",
       " 437: 'order',\n",
       " 438: 'concern',\n",
       " 439: 'team',\n",
       " 440: 'would',\n",
       " 441: 'inc',\n",
       " 442: 'final',\n",
       " 443: 'product',\n",
       " 444: 'ice',\n",
       " 445: 'mark',\n",
       " 446: 'number',\n",
       " 447: 'part',\n",
       " 448: 'birth',\n",
       " 449: 'earth',\n",
       " 450: 'let',\n",
       " 451: 'seek',\n",
       " 452: 'arrested',\n",
       " 453: 'trade',\n",
       " 454: 'near',\n",
       " 455: 'merger',\n",
       " 456: 'released',\n",
       " 457: 'ever',\n",
       " 458: 'beef',\n",
       " 459: 'strong',\n",
       " 460: 'quarter',\n",
       " 461: 'alert',\n",
       " 462: 'bug',\n",
       " 463: 'lindsay',\n",
       " 464: 'lawsuit',\n",
       " 465: 'jet',\n",
       " 466: 'wo',\n",
       " 467: 'power',\n",
       " 468: 'forecast',\n",
       " 469: 'white',\n",
       " 470: 'p',\n",
       " 471: 'ebay',\n",
       " 472: 'confirmed',\n",
       " 473: 'threat',\n",
       " 474: 'diabetes',\n",
       " 475: 'nasdaq',\n",
       " 476: 'pound',\n",
       " 477: 'hope',\n",
       " 478: 'vaccine',\n",
       " 479: 'money',\n",
       " 480: 'save',\n",
       " 481: 'approves',\n",
       " 482: 'hiv',\n",
       " 483: 'decline',\n",
       " 484: 'warning',\n",
       " 485: 'james',\n",
       " 486: 'cast',\n",
       " 487: 'george',\n",
       " 488: 'album',\n",
       " 489: 'fox',\n",
       " 490: 'finally',\n",
       " 491: 'got',\n",
       " 492: 'reality',\n",
       " 493: 'pfizer',\n",
       " 494: 'question',\n",
       " 495: 'break',\n",
       " 496: 'energy',\n",
       " 497: 'treat',\n",
       " 498: 'estimate',\n",
       " 499: 'weight',\n",
       " 500: 'run',\n",
       " 501: 'south',\n",
       " 502: 'pregnancy',\n",
       " 503: 'mental',\n",
       " 504: 'tweet',\n",
       " 505: 'book',\n",
       " 506: 'gomez',\n",
       " 507: 'international',\n",
       " 508: 'black',\n",
       " 509: 'e',\n",
       " 510: 'pistorius',\n",
       " 511: 'selena',\n",
       " 512: 'obesity',\n",
       " 513: 'biggest',\n",
       " 514: 'brown',\n",
       " 515: 'spoiler',\n",
       " 516: 'cover',\n",
       " 517: 'series',\n",
       " 518: 'healthy',\n",
       " 519: 'oculus',\n",
       " 520: 'epidemic',\n",
       " 521: 'policy',\n",
       " 522: 'premiere',\n",
       " 523: 'trading',\n",
       " 524: 'rumor',\n",
       " 525: 'summer',\n",
       " 526: 'ready',\n",
       " 527: 'judge',\n",
       " 528: 'demand',\n",
       " 529: 'sex',\n",
       " 530: 'national',\n",
       " 531: 'many',\n",
       " 532: 'push',\n",
       " 533: 'yahoo',\n",
       " 534: 'network',\n",
       " 535: 'tell',\n",
       " 536: 'project',\n",
       " 537: 'streaming',\n",
       " 538: 'wear',\n",
       " 539: 'country',\n",
       " 540: 'student',\n",
       " 541: 'continues',\n",
       " 542: 'brings',\n",
       " 543: 'singer',\n",
       " 544: 'spec',\n",
       " 545: 'martin',\n",
       " 546: 'met',\n",
       " 547: 'texas',\n",
       " 548: 'auto',\n",
       " 549: 'stem',\n",
       " 550: 'mini',\n",
       " 551: 'mcdonald',\n",
       " 552: 'crisis',\n",
       " 553: 'rare',\n",
       " 554: 'arabia',\n",
       " 555: 'prevent',\n",
       " 556: 'technology',\n",
       " 557: 'double',\n",
       " 558: 'police',\n",
       " 559: 'surge',\n",
       " 560: 'toyota',\n",
       " 561: 'breach',\n",
       " 562: 'giant',\n",
       " 563: 'event',\n",
       " 564: 'polio',\n",
       " 565: 'credit',\n",
       " 566: 'infection',\n",
       " 567: 'sue',\n",
       " 568: 'federal',\n",
       " 569: 'diet',\n",
       " 570: 'florida',\n",
       " 571: 'comcast',\n",
       " 572: 'former',\n",
       " 573: 'ibm',\n",
       " 574: 'unemployment',\n",
       " 575: 'friday',\n",
       " 576: 'secret',\n",
       " 577: 'camera',\n",
       " 578: 'full',\n",
       " 579: 'miss',\n",
       " 580: 'relay',\n",
       " 581: 'benefit',\n",
       " 582: 'scott',\n",
       " 583: 'hepatitis',\n",
       " 584: 'gay',\n",
       " 585: 'following',\n",
       " 586: 'bachelorette',\n",
       " 587: 'detail',\n",
       " 588: 'nation',\n",
       " 589: 'strike',\n",
       " 590: 'tab',\n",
       " 591: 'oscar',\n",
       " 592: 'stone',\n",
       " 593: 'really',\n",
       " 594: 'cancel',\n",
       " 595: 'settlement',\n",
       " 596: 'cent',\n",
       " 597: 'picture',\n",
       " 598: 'comment',\n",
       " 599: 'third',\n",
       " 600: 'per',\n",
       " 601: 'science',\n",
       " 602: 'tonight',\n",
       " 603: 'little',\n",
       " 604: 'party',\n",
       " 605: 'wife',\n",
       " 606: 'image',\n",
       " 607: 'mtv',\n",
       " 608: 'la',\n",
       " 609: 'bond',\n",
       " 610: 'worst',\n",
       " 611: 'adult',\n",
       " 612: 'settle',\n",
       " 613: 'emergency',\n",
       " 614: 'yet',\n",
       " 615: 'switch',\n",
       " 616: 'even',\n",
       " 617: 'positive',\n",
       " 618: 'brand',\n",
       " 619: 'using',\n",
       " 620: 'mean',\n",
       " 621: 'link',\n",
       " 622: 'area',\n",
       " 623: 'interest',\n",
       " 624: 'john',\n",
       " 625: 'smart',\n",
       " 626: 'mosquito',\n",
       " 627: 'satellite',\n",
       " 628: 'host',\n",
       " 629: 'illness',\n",
       " 630: 'amazing',\n",
       " 631: 'force',\n",
       " 632: 'medium',\n",
       " 633: 'bet',\n",
       " 634: 'idol',\n",
       " 635: 'dow',\n",
       " 636: 'display',\n",
       " 637: 'drink',\n",
       " 638: 'ftc',\n",
       " 639: 'drinking',\n",
       " 640: 'pregnant',\n",
       " 641: 'urge',\n",
       " 642: 'capital',\n",
       " 643: 'outlook',\n",
       " 644: 'light',\n",
       " 645: 'daily',\n",
       " 646: 'manufacturing',\n",
       " 647: 'jennifer',\n",
       " 648: 'industry',\n",
       " 649: 'supreme',\n",
       " 650: 'behind',\n",
       " 651: 'buying',\n",
       " 652: 'medicare',\n",
       " 653: 'ignition',\n",
       " 654: 'astrazeneca',\n",
       " 655: 'president',\n",
       " 656: 'eu',\n",
       " 657: 'french',\n",
       " 658: 'social',\n",
       " 659: 'seen',\n",
       " 660: 'reduce',\n",
       " 661: 'minute',\n",
       " 662: 'working',\n",
       " 663: 'spot',\n",
       " 664: 'old',\n",
       " 665: 'rock',\n",
       " 666: 'cloud',\n",
       " 667: 'economic',\n",
       " 668: 'alcohol',\n",
       " 669: 'gear',\n",
       " 670: 'travel',\n",
       " 671: 'festival',\n",
       " 672: 'dip',\n",
       " 673: 'think',\n",
       " 674: 'monday',\n",
       " 675: 'parent',\n",
       " 676: 'away',\n",
       " 677: 'asia',\n",
       " 678: 'short',\n",
       " 679: 'going',\n",
       " 680: 'announce',\n",
       " 681: 'chicken',\n",
       " 682: 'role',\n",
       " 683: 'jolie',\n",
       " 684: 'production',\n",
       " 685: 'chikungunya',\n",
       " 686: 'reported',\n",
       " 687: 'continue',\n",
       " 688: 'williams',\n",
       " 689: 'bring',\n",
       " 690: 'experiment',\n",
       " 691: 'act',\n",
       " 692: 'warner',\n",
       " 693: 'roll',\n",
       " 694: 'discovered',\n",
       " 695: 'focus',\n",
       " 696: 'acquisition',\n",
       " 697: 'easter',\n",
       " 698: 'canada',\n",
       " 699: 'winter',\n",
       " 700: 'barclays',\n",
       " 701: 'analyst',\n",
       " 702: 'exchange',\n",
       " 703: 'hbo',\n",
       " 704: 'harris',\n",
       " 705: 'robin',\n",
       " 706: 'reason',\n",
       " 707: 'restaurant',\n",
       " 708: 'protest',\n",
       " 709: 'rising',\n",
       " 710: 'david',\n",
       " 711: 'edge',\n",
       " 712: 'supply',\n",
       " 713: 'electric',\n",
       " 714: 'web',\n",
       " 715: 'late',\n",
       " 716: 'preview',\n",
       " 717: 'robert',\n",
       " 718: 'well',\n",
       " 719: 'angelina',\n",
       " 720: 'battery',\n",
       " 721: 'surprise',\n",
       " 722: 'wearable',\n",
       " 723: 'morning',\n",
       " 724: 'investigation',\n",
       " 725: 'hacker',\n",
       " 726: 'awareness',\n",
       " 727: 'shower',\n",
       " 728: 'partner',\n",
       " 729: 'victim',\n",
       " 730: 'mixed',\n",
       " 731: 'plant',\n",
       " 732: 'stay',\n",
       " 733: 'soar',\n",
       " 734: 'hour',\n",
       " 735: 'campaign',\n",
       " 736: 'board',\n",
       " 737: 'long',\n",
       " 738: 'leaked',\n",
       " 739: 'kick',\n",
       " 740: 'program',\n",
       " 741: 'meteor',\n",
       " 742: 'jimmy',\n",
       " 743: 'german',\n",
       " 744: 'lab',\n",
       " 745: 'bacteria',\n",
       " 746: 'surgery',\n",
       " 747: 'local',\n",
       " 748: 'deadline',\n",
       " 749: 'line',\n",
       " 750: 'source',\n",
       " 751: 'ca',\n",
       " 752: 'impact',\n",
       " 753: 'without',\n",
       " 754: 'allergy',\n",
       " 755: 'ryan',\n",
       " 756: 'sequel',\n",
       " 757: 'reject',\n",
       " 758: 'ohio',\n",
       " 759: 'rating',\n",
       " 760: 'cannes',\n",
       " 761: 'delay',\n",
       " 762: 'making',\n",
       " 763: 'climb',\n",
       " 764: 'station',\n",
       " 765: 'san',\n",
       " 766: 'slip',\n",
       " 767: 'drone',\n",
       " 768: 'twin',\n",
       " 769: 'effect',\n",
       " 770: 'jackson',\n",
       " 771: 'announced',\n",
       " 772: 'mad',\n",
       " 773: 'safe',\n",
       " 774: 'split',\n",
       " 775: 'lady',\n",
       " 776: 'pollution',\n",
       " 777: 'xp',\n",
       " 778: 'tobacco',\n",
       " 779: 'bitcoin',\n",
       " 780: 'selling',\n",
       " 781: 'winner',\n",
       " 782: 'leak',\n",
       " 783: 'approval',\n",
       " 784: 'site',\n",
       " 785: 'around',\n",
       " 786: 'purchase',\n",
       " 787: 'disney',\n",
       " 788: 'dancing',\n",
       " 789: 'denies',\n",
       " 790: 'mccarthy',\n",
       " 791: 'colbert',\n",
       " 792: 'rally',\n",
       " 793: 'acquire',\n",
       " 794: 'jobless',\n",
       " 795: 'fix',\n",
       " 796: 'measles',\n",
       " 797: 'fat',\n",
       " 798: 'survey',\n",
       " 799: 'song',\n",
       " 800: 'youtube',\n",
       " 801: 'screen',\n",
       " 802: 'seth',\n",
       " 803: 'warming',\n",
       " 804: 'morgan',\n",
       " 805: 'shot',\n",
       " 806: 'concert',\n",
       " 807: 'index',\n",
       " 808: 'card',\n",
       " 809: 'imf',\n",
       " 810: 'drive',\n",
       " 811: 'daughter',\n",
       " 812: 'coachella',\n",
       " 813: 'meeting',\n",
       " 814: 'hand',\n",
       " 815: 'harry',\n",
       " 816: 'birthday',\n",
       " 817: 'retail',\n",
       " 818: 'hike',\n",
       " 819: 'largest',\n",
       " 820: 'weather',\n",
       " 821: 'steady',\n",
       " 822: 'fund',\n",
       " 823: 'g',\n",
       " 824: 'try',\n",
       " 825: 'salmonella',\n",
       " 826: 'worldwide',\n",
       " 827: 'nyc',\n",
       " 828: 'chrysler',\n",
       " 829: 'playstation',\n",
       " 830: 'instagram',\n",
       " 831: 'six',\n",
       " 832: 'flu',\n",
       " 833: 'pharrell',\n",
       " 834: 'fine',\n",
       " 835: 'hollywood',\n",
       " 836: 'stroke',\n",
       " 837: 'african',\n",
       " 838: 'beyoncé',\n",
       " 839: 'fast',\n",
       " 840: 'panel',\n",
       " 841: 'affect',\n",
       " 842: 'bump',\n",
       " 843: 'walking',\n",
       " 844: 'married',\n",
       " 845: 'crude',\n",
       " 846: 'great',\n",
       " 847: 'london',\n",
       " 848: 'mouse',\n",
       " 849: 'liberia',\n",
       " 850: 'never',\n",
       " 851: 'johnson',\n",
       " 852: 'build',\n",
       " 853: 'allergan',\n",
       " 854: 'pill',\n",
       " 855: 'prime',\n",
       " 856: 'bell',\n",
       " 857: 'son',\n",
       " 858: 'loses',\n",
       " 859: 'ruling',\n",
       " 860: 'body',\n",
       " 861: 'efron',\n",
       " 862: 'geldof',\n",
       " 863: 'dress',\n",
       " 864: 'paltrow',\n",
       " 865: 'point',\n",
       " 866: 'average',\n",
       " 867: 'eclipse',\n",
       " 868: 'create',\n",
       " 869: 'moment',\n",
       " 870: 'hill',\n",
       " 871: 'almost',\n",
       " 872: 'walk',\n",
       " 873: 'rival',\n",
       " 874: 'rolling',\n",
       " 875: 'gene',\n",
       " 876: 'testing',\n",
       " 877: 'argentina',\n",
       " 878: 'sierra',\n",
       " 879: 'virtual',\n",
       " 880: 'killed',\n",
       " 881: 'bnp',\n",
       " 882: 'annual',\n",
       " 883: 'center',\n",
       " 884: 'cup',\n",
       " 885: 'washington',\n",
       " 886: 'computer',\n",
       " 887: 'tuesday',\n",
       " 888: 'colon',\n",
       " 889: 'zac',\n",
       " 890: 'driver',\n",
       " 891: 'highlight',\n",
       " 892: 'half',\n",
       " 893: 'longer',\n",
       " 894: 'huge',\n",
       " 895: 'recovery',\n",
       " 896: 'verizon',\n",
       " 897: 'australia',\n",
       " 898: 'employee',\n",
       " 899: 'leone',\n",
       " 900: 'hot',\n",
       " 901: 'gwyneth',\n",
       " 902: 'dark',\n",
       " 903: 'promise',\n",
       " 904: 'marriage',\n",
       " 905: 'rank',\n",
       " 906: 'leaf',\n",
       " 907: 'officially',\n",
       " 908: 'slam',\n",
       " 909: 'design',\n",
       " 910: 'performance',\n",
       " 911: 'bird',\n",
       " 912: 'privacy',\n",
       " 913: 'become',\n",
       " 914: 'charged',\n",
       " 915: 'peach',\n",
       " 916: 'wwe',\n",
       " 917: 'ny',\n",
       " 918: 'marvel',\n",
       " 919: 'chocolate',\n",
       " 920: 'named',\n",
       " 921: 'aim',\n",
       " 922: 'ocean',\n",
       " 923: 'titanfall',\n",
       " 924: 'nick',\n",
       " 925: 'place',\n",
       " 926: 'ground',\n",
       " 927: 'massive',\n",
       " 928: 'password',\n",
       " 929: 'track',\n",
       " 930: 'crush',\n",
       " 931: 'small',\n",
       " 932: 'al',\n",
       " 933: 'regulation',\n",
       " 934: 'history',\n",
       " 935: 'taking',\n",
       " 936: 'digital',\n",
       " 937: 'agency',\n",
       " 938: 'pc',\n",
       " 939: 'minister',\n",
       " 940: 'together',\n",
       " 941: 'pressure',\n",
       " 942: 'clooney',\n",
       " 943: 'valeant',\n",
       " 944: 'malaysian',\n",
       " 945: 'guilty',\n",
       " 946: 'draghi',\n",
       " 947: 'must',\n",
       " 948: 'thought',\n",
       " 949: 'asian',\n",
       " 950: 'france',\n",
       " 951: 'acquires',\n",
       " 952: 'said',\n",
       " 953: 'jenner',\n",
       " 954: 'weak',\n",
       " 955: 'nexus',\n",
       " 956: 'happy',\n",
       " 957: 'fuel',\n",
       " 958: 'russian',\n",
       " 959: 'map',\n",
       " 960: 'every',\n",
       " 961: 'andi',\n",
       " 962: 'used',\n",
       " 963: 'agrees',\n",
       " 964: 'directv',\n",
       " 965: 'c',\n",
       " 966: 'explorer',\n",
       " 967: 'road',\n",
       " 968: 'stage',\n",
       " 969: 'vii',\n",
       " 970: 'bachelor',\n",
       " 971: 'expectation',\n",
       " 972: 'tim',\n",
       " 973: 'celebrates',\n",
       " 974: 'aereo',\n",
       " 975: 'updated',\n",
       " 976: 'website',\n",
       " 977: 'word',\n",
       " 978: 'takeover',\n",
       " 979: 'tribute',\n",
       " 980: 'check',\n",
       " 981: 'later',\n",
       " 982: 'spending',\n",
       " 983: 'illinois',\n",
       " 984: 'insurance',\n",
       " 985: 'option',\n",
       " 986: 'x',\n",
       " 987: 'brad',\n",
       " 988: 'wireless',\n",
       " 989: 'pmi',\n",
       " 990: 'michigan',\n",
       " 991: 'creator',\n",
       " 992: 'british',\n",
       " 993: 'kate',\n",
       " 994: 'johnny',\n",
       " 995: 'quit',\n",
       " 996: 'speed',\n",
       " 997: 'factory',\n",
       " 998: 'http',\n",
       " 999: 'epa',\n",
       " 1000: 'highest',\n",
       " ...}"
      ]
     },
     "execution_count": 50,
     "metadata": {},
     "output_type": "execute_result"
    }
   ],
   "source": [
    "tokenizer.index_word\n",
    "#The dictionary below gies a snapshot of the most popular words in the vocabulary\n",
    "#We will only consider the top 10000 words"
   ]
  },
  {
   "cell_type": "code",
   "execution_count": 51,
   "metadata": {
    "colab": {
     "base_uri": "https://localhost:8080/"
    },
    "id": "sah5fhloctSS",
    "outputId": "ef86aef9-356d-439f-a948-0f7267c68eab"
   },
   "outputs": [
    {
     "data": {
      "text/plain": [
       "98508               Tick season underway in Kittitas County\n",
       "77195     WSJ: AT&T/DirecTV deal could be announced in t...\n",
       "132516    Playtex Breast Pump Power Adapters Recalled Du...\n",
       "Name: Headline, dtype: object"
      ]
     },
     "execution_count": 51,
     "metadata": {},
     "output_type": "execute_result"
    }
   ],
   "source": [
    "balanced_df.Headline.head(3)"
   ]
  },
  {
   "cell_type": "code",
   "execution_count": 52,
   "metadata": {
    "id": "PMN1kmnSa2pr"
   },
   "outputs": [],
   "source": [
    "sequences = tokenizer.texts_to_sequences(train_data)\n",
    "#This line of code will convert each entry(document) in the Headline column of balancedf to a sequence of integers"
   ]
  },
  {
   "cell_type": "code",
   "execution_count": 53,
   "metadata": {
    "colab": {
     "base_uri": "https://localhost:8080/"
    },
    "id": "YRD64p6WbtNc",
    "outputId": "0c991371-7401-456d-cfcb-470b5742c419"
   },
   "outputs": [
    {
     "data": {
      "text/plain": [
       "[[1432, 51, 3100, 183],\n",
       " [3133, 36, 25, 771, 126, 82],\n",
       " [321, 2765, 467, 314, 243, 1250, 30]]"
      ]
     },
     "execution_count": 53,
     "metadata": {},
     "output_type": "execute_result"
    }
   ],
   "source": [
    "sequences[:3]\n",
    "#This is what we transform our Series/list of documents into\n",
    "#Each word in the document (with the exception of the filtered words) has been converted to an integer)\n"
   ]
  },
  {
   "cell_type": "code",
   "execution_count": 54,
   "metadata": {
    "colab": {
     "base_uri": "https://localhost:8080/",
     "height": 165
    },
    "id": "mI6VFw5cnmSD",
    "outputId": "58e43246-bc75-464a-a06a-d589a1ff773c"
   },
   "outputs": [],
   "source": [
    "X = pad_sequences(sequences, maxlen=60)"
   ]
  },
  {
   "cell_type": "code",
   "execution_count": 55,
   "metadata": {
    "colab": {
     "base_uri": "https://localhost:8080/"
    },
    "id": "uy7m378EpXcb",
    "outputId": "d9767a23-67cc-48dd-cb9d-5e5826bd6ac8"
   },
   "outputs": [
    {
     "data": {
      "text/plain": [
       "array([[   0,    0,    0, ...,   51, 3100,  183],\n",
       "       [   0,    0,    0, ...,  771,  126,   82],\n",
       "       [   0,    0,    0, ...,  243, 1250,   30],\n",
       "       ...,\n",
       "       [   0,    0,    0, ...,  203, 1146,  159],\n",
       "       [   0,    0,    0, ..., 2615,   16,  122],\n",
       "       [   0,    0,    0, ..., 2905,  930, 1646]])"
      ]
     },
     "execution_count": 55,
     "metadata": {},
     "output_type": "execute_result"
    }
   ],
   "source": [
    "X"
   ]
  },
  {
   "cell_type": "code",
   "execution_count": 56,
   "metadata": {
    "id": "FwLxz4rvh1QJ"
   },
   "outputs": [],
   "source": [
    "X_train, X_test, y_train, y_test = train_test_split(X, labels)"
   ]
  },
  {
   "cell_type": "code",
   "execution_count": 57,
   "metadata": {
    "colab": {
     "base_uri": "https://localhost:8080/"
    },
    "id": "Bbtfy1oXh8UG",
    "outputId": "1653446b-df52-429e-80a7-8940b6fe6c09"
   },
   "outputs": [
    {
     "name": "stdout",
     "output_type": "stream",
     "text": [
      "(135000, 60) (135000, 4)\n",
      "(45000, 60) (45000, 4)\n"
     ]
    }
   ],
   "source": [
    "print(X_train.shape, y_train.shape)\n",
    "print(X_test.shape, y_test.shape)"
   ]
  },
  {
   "cell_type": "markdown",
   "metadata": {},
   "source": [
    "### Model building and training"
   ]
  },
  {
   "cell_type": "code",
   "execution_count": 58,
   "metadata": {
    "id": "vsZRrrzBnJA7"
   },
   "outputs": [],
   "source": [
    "vocab_size = 10000\n",
    "embed_size = 128\n",
    "sequence_len = 120"
   ]
  },
  {
   "cell_type": "code",
   "execution_count": 59,
   "metadata": {
    "id": "TEbL3Z2cpt7q"
   },
   "outputs": [],
   "source": [
    "model = Sequential()"
   ]
  },
  {
   "cell_type": "code",
   "execution_count": 60,
   "metadata": {
    "id": "wNXSjj2AmmQ-"
   },
   "outputs": [],
   "source": [
    "model.add(Embedding(input_dim=vocab_size, output_dim=embed_size))\n",
    "model.add(SpatialDropout1D(0.5))\n",
    "model.add(LSTM(units=100, activation='tanh', input_shape=(sequence_len, embed_size), dropout=0.7, recurrent_dropout=0.7))\n",
    "model.add(Dense(4, activation=\"softmax\"))"
   ]
  },
  {
   "cell_type": "code",
   "execution_count": 61,
   "metadata": {
    "colab": {
     "base_uri": "https://localhost:8080/"
    },
    "id": "dePST-enn7xj",
    "outputId": "04a03c06-0bc5-474b-bb83-8fcbc1e459fa"
   },
   "outputs": [
    {
     "name": "stdout",
     "output_type": "stream",
     "text": [
      "Model: \"sequential\"\n",
      "_________________________________________________________________\n",
      "Layer (type)                 Output Shape              Param #   \n",
      "=================================================================\n",
      "embedding (Embedding)        (None, None, 128)         1280000   \n",
      "_________________________________________________________________\n",
      "spatial_dropout1d (SpatialDr (None, None, 128)         0         \n",
      "_________________________________________________________________\n",
      "lstm (LSTM)                  (None, 100)               91600     \n",
      "_________________________________________________________________\n",
      "dense (Dense)                (None, 4)                 404       \n",
      "=================================================================\n",
      "Total params: 1,372,004\n",
      "Trainable params: 1,372,004\n",
      "Non-trainable params: 0\n",
      "_________________________________________________________________\n"
     ]
    }
   ],
   "source": [
    "model.summary()"
   ]
  },
  {
   "cell_type": "code",
   "execution_count": 62,
   "metadata": {
    "id": "Y8X1eiDAn9dw"
   },
   "outputs": [],
   "source": [
    "model.compile(optimizer=\"adam\", loss=\"categorical_crossentropy\", metrics=[\"accuracy\"])"
   ]
  },
  {
   "cell_type": "code",
   "execution_count": 63,
   "metadata": {
    "colab": {
     "background_save": true,
     "base_uri": "https://localhost:8080/"
    },
    "id": "vi76_ktsoNk8",
    "outputId": "d4b883a7-18e9-4f69-a626-27965aa06b4c"
   },
   "outputs": [
    {
     "name": "stdout",
     "output_type": "stream",
     "text": [
      "Epoch 1/5\n",
      "1688/1688 [==============================] - 167s 98ms/step - loss: 0.4658 - accuracy: 0.8252 - val_loss: 0.2435 - val_accuracy: 0.9163\n",
      "Epoch 2/5\n",
      "1688/1688 [==============================] - 170s 101ms/step - loss: 0.2518 - accuracy: 0.9123 - val_loss: 0.2218 - val_accuracy: 0.9234\n",
      "Epoch 3/5\n",
      "1688/1688 [==============================] - 168s 100ms/step - loss: 0.2176 - accuracy: 0.9239 - val_loss: 0.2156 - val_accuracy: 0.9250\n",
      "Epoch 4/5\n",
      "1688/1688 [==============================] - 171s 101ms/step - loss: 0.1985 - accuracy: 0.9298 - val_loss: 0.2160 - val_accuracy: 0.9269\n",
      "Epoch 5/5\n",
      "1688/1688 [==============================] - 164s 97ms/step - loss: 0.1842 - accuracy: 0.9352 - val_loss: 0.2178 - val_accuracy: 0.9271\n"
     ]
    }
   ],
   "source": [
    "history = model.fit(X_train, y_train, batch_size=64, epochs=5, validation_split=0.2, verbose=True, callbacks=[EarlyStopping(monitor=\"val_loss\", patience=2)])"
   ]
  },
  {
   "cell_type": "markdown",
   "metadata": {},
   "source": [
    "### Model Evaluation and Analysis"
   ]
  },
  {
   "cell_type": "code",
   "execution_count": 64,
   "metadata": {
    "colab": {
     "base_uri": "https://localhost:8080/"
    },
    "id": "IXdrV-EL1aWS",
    "outputId": "035d3a52-8c07-4413-9e7e-192536f6c7c2"
   },
   "outputs": [
    {
     "name": "stdout",
     "output_type": "stream",
     "text": [
      "1407/1407 [==============================] - 13s 9ms/step - loss: 0.2189 - accuracy: 0.9254\n"
     ]
    }
   ],
   "source": [
    "evaluation = model.evaluate(X_test, y_test)\n",
    "#The model generalizes very well to the test set."
   ]
  },
  {
   "cell_type": "code",
   "execution_count": 65,
   "metadata": {
    "id": "tCI7Y4-w5wBD"
   },
   "outputs": [],
   "source": [
    "train_accuracy_hist = history.history[\"accuracy\"]\n",
    "val_accuracy_his = history.history['val_accuracy']"
   ]
  },
  {
   "cell_type": "code",
   "execution_count": 66,
   "metadata": {
    "colab": {
     "base_uri": "https://localhost:8080/",
     "height": 298
    },
    "id": "owXyA23R6MQ4",
    "outputId": "bf516f0a-1be9-4071-9da3-9d8030625a2a"
   },
   "outputs": [
    {
     "data": {
      "image/png": "[encoded data removed]",
      "text/plain": [
       "<Figure size 576x360 with 1 Axes>"
      ]
     },
     "metadata": {
      "needs_background": "light"
     },
     "output_type": "display_data"
    }
   ],
   "source": [
    "plt.figure(figsize=(8, 5))\n",
    "plt.plot(train_accuracy_hist, \"r\", label=\"validation data\")\n",
    "plt.plot(val_accuracy_his, 'g', label=\"validation data\")\n",
    "plt.title(\"Graph showing variations in training and validation accuracy during the various epochs\")\n",
    "plt.ylabel(\"Accuracy\")\n",
    "plt.xlabel(\"Epoch #\")\n",
    "plt.legend(loc=4)\n",
    "plt.show()"
   ]
  },
  {
   "cell_type": "markdown",
   "metadata": {},
   "source": [
    "`The graph above shows that the training accuray and validation accuracy are quite similar. hence we can expect the model to generalize well to unseen data. The two accuracies do seem to diverge a bit after epoch 2, however, hence this algorithm may be a candidate for training using early stopping.`"
   ]
  },
  {
   "cell_type": "code",
   "execution_count": 67,
   "metadata": {
    "id": "U9aGBGfv6aRS"
   },
   "outputs": [],
   "source": [
    "train_loss_hist = history.history[\"loss\"]\n",
    "val_loss_his = history.history['val_loss']"
   ]
  },
  {
   "cell_type": "code",
   "execution_count": 68,
   "metadata": {
    "colab": {
     "base_uri": "https://localhost:8080/",
     "height": 298
    },
    "id": "_Yc_IgTp6zJO",
    "outputId": "97913783-1213-4d00-c453-d21a74ee0523"
   },
   "outputs": [
    {
     "data": {
      "image/png": "[encoded data removed]",
      "text/plain": [
       "<Figure size 576x360 with 1 Axes>"
      ]
     },
     "metadata": {
      "needs_background": "light"
     },
     "output_type": "display_data"
    }
   ],
   "source": [
    "plt.figure(figsize=(8, 5))\n",
    "plt.plot(train_loss_hist, \"r\", label=\"validation data\")\n",
    "plt.plot(val_loss_his, 'g', label=\"validation data\")\n",
    "plt.title(\"Graph showing variations in training and validation loss during the various epochs\")\n",
    "plt.ylabel(\"Loss\")\n",
    "plt.xlabel(\"Epoch #\")\n",
    "plt.legend(loc=1)\n",
    "plt.show()"
   ]
  },
  {
   "cell_type": "markdown",
   "metadata": {},
   "source": [
    "`The graph above conveys the same sentiments as the previous graph`"
   ]
  },
  {
   "cell_type": "markdown",
   "metadata": {},
   "source": [
    "### Model Application"
   ]
  },
  {
   "cell_type": "code",
   "execution_count": 69,
   "metadata": {},
   "outputs": [],
   "source": [
    "def process_text(doc):\n",
    "    \n",
    "    \"\"\" This function inputs a piece of text/ document and outputs the category the text belongs to\"\"\"\n",
    "    doc = text_preprocessor(doc)\n",
    "    sequence_to_predict = tokenizer.texts_to_sequences([doc])\n",
    "    padded_sequence = pad_sequences(sequence_to_predict, maxlen=60)\n",
    "    results = model.predict(padded_sequence)\n",
    "    \n",
    "    cat = np.argmax(results)\n",
    "    classes = [\"business\", \"entertainment\", 'medical', 'science and technology']\n",
    "\n",
    "    return classes[cat]\n"
   ]
  },
  {
   "cell_type": "code",
   "execution_count": 70,
   "metadata": {},
   "outputs": [],
   "source": [
    "text = \"regular fast food eating leads to fertility issues in women\"\n",
    "#An example of a headline that could be given to the process_text function"
   ]
  },
  {
   "cell_type": "code",
   "execution_count": 71,
   "metadata": {},
   "outputs": [
    {
     "data": {
      "text/plain": [
       "'medical'"
      ]
     },
     "execution_count": 71,
     "metadata": {},
     "output_type": "execute_result"
    }
   ],
   "source": [
    "process_text(text)\n",
    "#The function outputs the category the example belongs to."
   ]
  }
 ],
 "metadata": {
  "colab": {
   "collapsed_sections": [],
   "name": "News Headline Category Predicter.ipynb",
   "provenance": []
  },
  "kernelspec": {
   "display_name": "Python 3 (ipykernel)",
   "language": "python",
   "name": "python3"
  },
  "language_info": {
   "codemirror_mode": {
    "name": "ipython",
    "version": 3
   },
   "file_extension": ".py",
   "mimetype": "text/x-python",
   "name": "python",
   "nbconvert_exporter": "python",
   "pygments_lexer": "ipython3",
   "version": "3.8.8"
  }
 },
 "nbformat": 4,
 "nbformat_minor": 1
}
